{
 "cells": [
  {
   "cell_type": "markdown",
   "metadata": {
    "id": "gvBhofLlNH1K"
   },
   "source": [
    "# **Lab 5 - Monte Carlo (MC) and Quasi-Monte Carlo (QMC) methods**"
   ]
  },
  {
   "cell_type": "code",
   "execution_count": 1,
   "metadata": {
    "id": "hW0AVqdG4DlX"
   },
   "outputs": [],
   "source": [
    "import numpy as np\n",
    "import matplotlib.pyplot as plt"
   ]
  },
  {
   "cell_type": "markdown",
   "metadata": {
    "id": "pLcLNguNd-_o"
   },
   "source": [
    "## Monte Carlo methods"
   ]
  },
  {
   "cell_type": "markdown",
   "metadata": {
    "id": "c__mGPpOeD57"
   },
   "source": [
    "### General idea"
   ]
  },
  {
   "cell_type": "markdown",
   "metadata": {
    "id": "eYRXNuiaLaBP"
   },
   "source": [
    "\n",
    "Monte Carlo methods are a class of stochastic approaches that leverage classical results in Probability and Statistics (mostly the Law of Large Numbers and the Central Limit Theorem) in order to estimate certain quantities. For instance, they can be used to estimate integrals in arbitrary dimension, offering a stochastic alternative to classical quadrature rules and related numerical methods.\n",
    "\n",
    "In a nutshell, the idea arises by noticing that for any $f:\\mathbb{R}^{d}\\to\\mathbb{R}$ and any probability measure $\\mathbb{P}$ on $\\mathbb{R}^{d}$, if $f\\in L^{1}_{\\mathbb{P}}(\\mathbb{R}^{d})$, i.e. $\\int_{\\mathbb{R}^{d}}|f(\\mathbf{x})|\\mathbb{P}(d\\mathbf{x})<+\\infty$, then\n",
    "\n",
    "$$\\int_{\\mathbb{R}^{d}}f(\\mathbf{x})\\mathbb{P}(d\\mathbf{x})=\\mathbb{E}\\left[f(\\mathbf{X})\\right]\\approx\\frac{1}{N}\\sum_{i=1}^{N}f(\\mathbf{X}_i)$$\n",
    "\n",
    "whenever $\\mathbf{X}\\sim\\mathbb{P}$ is a $d$-dimensional random vector with probability distribution $\\mathbb{P}$ and $\\mathbf{X}_1,\\dots\\mathbf{X}_N\\sim\\mathbb{P}$ are i.i.d. replicas of $\\mathbf{X}$.\n",
    "\n",
    "Equivalently, if $\\mathbb{P}$ admits a density $p:\\mathbb{R}^{d}\\to[0,+\\infty)$,\n",
    "\n",
    "$$\\int_{\\mathbb{R}^{d}}f(\\mathbf{x})p(\\mathbf{x})d\\mathbf{x}=\\mathbb{E}\\left[f(\\mathbf{X})\\right]\\approx\\frac{1}{N}\\sum_{i=1}^{N}f(\\mathbf{X}_i)$$\n",
    "\n",
    "Consequently, one can easily estimate the integral on the left-hand-side by using a simple aritmetic mean (up to knowing how to sample from $\\mathbb{P}$!). Additionally, thanks to the Central Limit Theorem (CLT), if $N$ is sufficiently large, we can enrich our approximation by leveraging the following error bound\n",
    "\n",
    "$$\\left|\\int_{\\mathbb{R}^{d}}f(\\mathbf{x})\\mathbb{P}(d\\mathbf{x})-\\frac{1}{N}\\sum_{i=1}^{N}f(\\mathbf{X}_i)\\right|\\le z_{\\alpha/2}\\frac{\\sigma}{\\sqrt{N}}$$\n",
    "\n",
    "which is known to hold with probability $1-\\alpha$. Here,\n",
    "\n",
    "- $z_{\\beta}$ is the $1-\\beta$ quantile of a standard gaussian distribution, i.e. $\\mathbb{P}(Z>z_{\\beta})=\\beta$ whenever $Z\\sim\\mathcal{N}(0,1)$;\n",
    "\n",
    "- $\\sigma^2=\\text{Var}(f(\\mathbf{X}))$ is related to the variance at output."
   ]
  },
  {
   "cell_type": "markdown",
   "metadata": {
    "id": "UOcC_zUO6YmU"
   },
   "source": [
    "<mark>**Exercise 1**</mark></br>\n",
    "\n",
    "Consider the following integral in dimension $d=1$,\n",
    "\n",
    "$$I = \\int_{-\\infty}^{+\\infty}x^2e^{x-\\frac{1}{2}x^2}dx,$$\n",
    "\n",
    "whose exact value is known to be $I=\\sqrt{8\\pi e}$."
   ]
  },
  {
   "cell_type": "code",
   "execution_count": 2,
   "metadata": {},
   "outputs": [
    {
     "data": {
      "text/plain": [
       "np.float64(8.265462708244986)"
      ]
     },
     "execution_count": 2,
     "metadata": {},
     "output_type": "execute_result"
    }
   ],
   "source": [
    "np.sqrt(8*np.pi*np.exp(1))"
   ]
  },
  {
   "cell_type": "markdown",
   "metadata": {
    "id": "Hit4t4di58ew"
   },
   "source": [
    "**Ex. 1.1**\n",
    "Re-write the integral in the form $I=\\int_{\\mathbb{R}}f(x)p(x)dx$ where $p$ is the density function of a standard normal distribution."
   ]
  },
  {
   "cell_type": "code",
   "execution_count": 3,
   "metadata": {
    "id": "HmD8mKPU3_zf"
   },
   "outputs": [],
   "source": [
    "p = lambda x: np.exp((-x**2)/2)/np.sqrt(2*np.pi)\n",
    "f = lambda x: np.sqrt(2*np.pi)*(x**2)*np.exp(x)"
   ]
  },
  {
   "cell_type": "markdown",
   "metadata": {
    "id": "MMuoVpI-6HyQ"
   },
   "source": [
    "**Ex. 1.2** Leveraging the representation at point (1), approximate $I$ using a Monte Carlo average with $N=10^4$ samples drawn from a standard normal distribution, $X\\sim\\mathcal{N}(0,1)$."
   ]
  },
  {
   "cell_type": "code",
   "execution_count": 4,
   "metadata": {
    "id": "0VVfoc-iR0pQ"
   },
   "outputs": [],
   "source": [
    "I = (8*np.pi*np.e)**0.5 # Exact value\n",
    "\n",
    "# MC sampling\n",
    "def mc_sampling(N, f):\n",
    "    samples = f(np.random.standard_normal(N))\n",
    "    estimate = np.mean(samples)\n",
    "\n",
    "    return estimate, samples"
   ]
  },
  {
   "cell_type": "code",
   "execution_count": 5,
   "metadata": {},
   "outputs": [
    {
     "data": {
      "text/plain": [
       "np.float64(0.5473175008356073)"
      ]
     },
     "execution_count": 5,
     "metadata": {},
     "output_type": "execute_result"
    }
   ],
   "source": [
    "mc_sampling(N = 10**4, f = f)[0] - I"
   ]
  },
  {
   "cell_type": "markdown",
   "metadata": {
    "id": "GVfrg5aA6JqJ"
   },
   "source": [
    "**Ex. 1.3** Enrich the estimate at point (2) by computing a confidence interval of level $1-\\alpha=95\\%$. Verify (empirically) that the confidence interval has desired level of confidence by repeating the calculation multiple times."
   ]
  },
  {
   "cell_type": "code",
   "execution_count": 6,
   "metadata": {
    "id": "gDHXq_YZRIV4"
   },
   "outputs": [],
   "source": [
    "# Enriching the pointwise estimate with a confidence interval\n",
    "from scipy.stats import norm\n",
    "alpha = 0.05\n",
    "z = norm.ppf(1.0-alpha/2.0)\n",
    "\n",
    "def confidence_bound(z, N_mean, N_var, sample_var = None):\n",
    "    if sample_var == None:\n",
    "        samples = f(np.random.standard_normal(N_var))\n",
    "        sample_var = np.var(samples, ddof = 1)\n",
    "    return z * np.sqrt(sample_var) / np.sqrt(N_mean)\n",
    "    \n",
    "# Hint: use np.var with optional argument ddof=1 to calculate sample variance\n",
    "# ddof stands for \"delta degrees of freedom\""
   ]
  },
  {
   "cell_type": "code",
   "execution_count": 7,
   "metadata": {},
   "outputs": [
    {
     "data": {
      "text/plain": [
       "np.True_"
      ]
     },
     "execution_count": 7,
     "metadata": {},
     "output_type": "execute_result"
    }
   ],
   "source": [
    "np.abs(mc_sampling(N = 10**4, f=f)[0] - I) <= confidence_bound(z, 10**4, 1000)"
   ]
  },
  {
   "cell_type": "code",
   "execution_count": 8,
   "metadata": {
    "id": "p9Ll4BhrRbvZ"
   },
   "outputs": [],
   "source": [
    "# Checking if the confidence is effective\n",
    "# Idea: repeat the estimate 1000 times. How often does the CI contain the true value?\n",
    "\n",
    "def ci_test(N_mean, f, z, N_var, N_test):\n",
    "    alpha = 0\n",
    "    for _ in range(N_test):\n",
    "        alpha += int(np.abs(mc_sampling(N = N_mean, f=f)[0] - I) <= confidence_bound(z, N_mean, N_var))\n",
    "\n",
    "    return alpha/N_test"
   ]
  },
  {
   "cell_type": "code",
   "execution_count": 9,
   "metadata": {},
   "outputs": [
    {
     "data": {
      "text/plain": [
       "0.937"
      ]
     },
     "execution_count": 9,
     "metadata": {},
     "output_type": "execute_result"
    }
   ],
   "source": [
    "ci_test(10**4, f, z, 10000, 1000)"
   ]
  },
  {
   "cell_type": "markdown",
   "metadata": {
    "id": "Awke_yBS6Ua4"
   },
   "source": [
    "**Ex. 1.4** Let $I_N$ denote the Monte Carlo estimate of $I$ when using $N$ samples. For every $N=2^5,2^6,\\dots,2^{20}$ compute the relative error $|I-I_N|/I$ and plot it as a function of $N$. What trend do you observe?"
   ]
  },
  {
   "cell_type": "code",
   "execution_count": 10,
   "metadata": {
    "id": "ugvYn_3MTB31"
   },
   "outputs": [
    {
     "data": {
      "image/png": "[encoded data removed]",
      "text/plain": [
       "<Figure size 640x480 with 1 Axes>"
      ]
     },
     "metadata": {},
     "output_type": "display_data"
    }
   ],
   "source": [
    "Ns = 2**np.arange(5, 21) # Array of values of N = 2^5, 2^6, ..., 2^20\n",
    "plt.loglog(Ns, 1.0/Ns**0.5, '--', label = '$N^{-1/2}$ (MC rate)') # Theoretical Monte Carlo rate\n",
    "\n",
    "y = np.array([(np.abs(mc_sampling(N, f)[0] - I))/I for N in Ns])\n",
    "\n",
    "plt.loglog(Ns, y, label = \"Empirical result\")\n",
    "plt.legend()\n",
    "plt.show()"
   ]
  },
  {
   "cell_type": "markdown",
   "metadata": {
    "id": "68yEWzqf6XdD"
   },
   "source": [
    "**Ex. 1.5** Let $\\varepsilon>0$. Leveraging the formula for the confidence interval, propose an adaptive algorithm for determining the number of samples $N_*$ for which one expects $|I-I_{N_*}|/I\\le\\varepsilon$ to hold with probability $1-\\alpha$. Test your approach with $\\varepsilon=0.01$."
   ]
  },
  {
   "cell_type": "code",
   "execution_count": 11,
   "metadata": {
    "id": "PXt6eWEOTPPU"
   },
   "outputs": [
    {
     "name": "stdout",
     "output_type": "stream",
     "text": [
      "Just used 30 samples, suggested sample size is actually this: 58108.\n",
      "Just used 58108 samples, suggested sample size is actually this: 43557.\n"
     ]
    }
   ],
   "source": [
    "N = 0\n",
    "Nstar = 30\n",
    "eps = 0.01\n",
    "\n",
    "while(N < Nstar):\n",
    "    N = Nstar\n",
    "    Y = f(np.random.rand(N))\n",
    "    mu = Y.mean()\n",
    "    sigma = Y.var(ddof = 1)**0.5\n",
    "\n",
    "    Nstar = int((z*sigma/(eps*mu))**2)\n",
    "    print(\"Just used %d samples, suggested sample size is actually this: %d.\" % (N, Nstar))"
   ]
  },
  {
   "cell_type": "markdown",
   "metadata": {
    "id": "Z96JIW4m6aDX"
   },
   "source": [
    "**Ex. 1.6** The code below contains a few lines of code where the integral $I$ is estimated using a Gaussian quadrature formula with weight $e^{-x^2/2}$ (Gauss-Hermite). Compare the performance of the MC estimate with that of the quadrature formula using $m=3,4,5,6$ collocation points."
   ]
  },
  {
   "cell_type": "code",
   "execution_count": 12,
   "metadata": {
    "id": "x55C7ULcVq4H"
   },
   "outputs": [
    {
     "name": "stdout",
     "output_type": "stream",
     "text": [
      "True value:\t\t8.2655\n",
      "Gauss-Hermite approx:\t8.2550\n",
      "\n",
      "Relative error:\t\t0.0013\n"
     ]
    }
   ],
   "source": [
    "from numpy.polynomial.hermite_e import hermegauss\n",
    "m = 5\n",
    "xknots, omegas = hermegauss(m)\n",
    "\n",
    "g = lambda x: x**2*np.exp(x)\n",
    "Ig = sum(g(xknots)*omegas)\n",
    "\n",
    "print(\"True value:\\t\\t%.4f\" % I)\n",
    "print(\"Gauss-Hermite approx:\\t%.4f\\n\" % Ig)\n",
    "print(\"Relative error:\\t\\t%.4f\" % (abs(I-Ig)/I))"
   ]
  },
  {
   "cell_type": "markdown",
   "metadata": {
    "id": "cQtmLWcTQL46"
   },
   "source": [
    "**Ex. 1.7** Let's say that we now want to consider the following integral instead,\n",
    "$$I={\\large\\int_{\\mathbb{R}^d}}\\left(\\sum_{i=1}^{d}x_i^4e^{2x_i}\\right)^{1/2}e^{-\\frac{1}{2}\\sum_{i=1}^{d}x_i^2}dx_1\\dots dx_d.$$\n",
    "where the dimension $d$ is arbitrary. Do you expect the results obtained at point (5) to change? Why? And, if so, how?"
   ]
  },
  {
   "cell_type": "code",
   "execution_count": 13,
   "metadata": {},
   "outputs": [
    {
     "data": {
      "text/plain": [
       "array([11, 22, 33])"
      ]
     },
     "execution_count": 13,
     "metadata": {},
     "output_type": "execute_result"
    }
   ],
   "source": [
    "a = [[1*i, 2*i, 3*i] for i in range(1, 4)]\n",
    "b = [[1, 2, 2] for _ in range (3)]\n",
    "\n",
    "np.einsum('ij,ij->i', a, b)"
   ]
  },
  {
   "cell_type": "code",
   "execution_count": 14,
   "metadata": {},
   "outputs": [],
   "source": [
    "def f_multid(x, d):\n",
    "    normal_constant = (2*np.pi)**(-d/2)\n",
    "    \n",
    "    summation = np.einsum('ij,ij->i', np.pow(x, 4), np.exp(2*x))\n",
    "    return normal_constant * np.sqrt(summation)"
   ]
  },
  {
   "cell_type": "code",
   "execution_count": 15,
   "metadata": {},
   "outputs": [],
   "source": [
    "# MC sampling\n",
    "rng = np.random.default_rng()\n",
    "\n",
    "def mc_sampling_multid(N, d):\n",
    "    x_samples = rng.multivariate_normal(mean = np.zeros(d), cov = np.eye(d), size = N)\n",
    "    samples = f_multid(x_samples, d)\n",
    "    estimate = np.mean(samples)\n",
    "\n",
    "    return estimate, samples"
   ]
  },
  {
   "cell_type": "code",
   "execution_count": 16,
   "metadata": {},
   "outputs": [
    {
     "data": {
      "text/plain": [
       "(np.float64(1.2923335177423094),\n",
       " array([8.88041263e-01, 6.93007735e-01, 4.16577778e-02, 7.83189009e+00,\n",
       "        5.15888383e-03, 7.60070605e-02, 2.00307486e-01, 1.96948239e-02,\n",
       "        4.00553285e-02, 3.12751473e+00]))"
      ]
     },
     "execution_count": 16,
     "metadata": {},
     "output_type": "execute_result"
    }
   ],
   "source": [
    "mc_sampling_multid(10, 3)"
   ]
  },
  {
   "cell_type": "markdown",
   "metadata": {},
   "source": [
    "Plotting a number of results to see how the integral varies."
   ]
  },
  {
   "cell_type": "code",
   "execution_count": null,
   "metadata": {},
   "outputs": [
    {
     "ename": "ValueError",
     "evalue": "setting an array element with a sequence. The requested array has an inhomogeneous shape after 2 dimensions. The detected shape was (16, 2) + inhomogeneous part.",
     "output_type": "error",
     "traceback": [
      "\u001b[31m---------------------------------------------------------------------------\u001b[39m",
      "\u001b[31mValueError\u001b[39m                                Traceback (most recent call last)",
      "\u001b[36mCell\u001b[39m\u001b[36m \u001b[39m\u001b[32mIn[73]\u001b[39m\u001b[32m, line 3\u001b[39m\n\u001b[32m      1\u001b[39m ds = np.arange(\u001b[32m5\u001b[39m, \u001b[32m21\u001b[39m) \u001b[38;5;66;03m# Array of values of N = 2^5, 2^6, ..., 2^20\u001b[39;00m\n\u001b[32m----> \u001b[39m\u001b[32m3\u001b[39m y = \u001b[43mnp\u001b[49m\u001b[43m.\u001b[49m\u001b[43marray\u001b[49m\u001b[43m(\u001b[49m\u001b[43m[\u001b[49m\u001b[43mmc_sampling_multid\u001b[49m\u001b[43m(\u001b[49m\u001b[32;43m10\u001b[39;49m\u001b[43m*\u001b[49m\u001b[43m*\u001b[49m\u001b[32;43m4\u001b[39;49m\u001b[43m,\u001b[49m\u001b[43m \u001b[49m\u001b[43md\u001b[49m\u001b[43m)\u001b[49m\u001b[43m \u001b[49m\u001b[38;5;28;43;01mfor\u001b[39;49;00m\u001b[43m \u001b[49m\u001b[43md\u001b[49m\u001b[43m \u001b[49m\u001b[38;5;129;43;01min\u001b[39;49;00m\u001b[43m \u001b[49m\u001b[43mds\u001b[49m\u001b[43m]\u001b[49m\u001b[43m)\u001b[49m\n\u001b[32m      5\u001b[39m plt.plot(Ns, y)\n\u001b[32m      6\u001b[39m plt.show()\n",
      "\u001b[31mValueError\u001b[39m: setting an array element with a sequence. The requested array has an inhomogeneous shape after 2 dimensions. The detected shape was (16, 2) + inhomogeneous part."
     ]
    }
   ],
   "source": [
    "ds = np.arange(5, 21) # Array of values of N = 2^5, 2^6, ..., 2^20\n",
    "\n",
    "y = np.array([mc_sampling_multid(10**4, d) for d in ds])\n",
    "std = np.array([])\n",
    "\n",
    "volume = np.zeros(len(ds))\n",
    "uncertainty = np.zeros(len(ds))\n",
    "\n",
    "N = 100000\n",
    "alpha = 0.05\n",
    "z = norm.ppf(1.0-alpha/2.0)\n",
    "\n",
    "for i in range(len(ds)):plt.plot(Ns, y)\n",
    "plt.show()\n",
    "  # Generating points\n",
    "  d = ds[i]\n",
    "  volC = 2 ** d\n",
    "  samples = 2*np.random.uniform(size = (d, N)) - 1\n",
    "  samples = np.pow(samples, 2)\n",
    "  samples = np.add.reduce(samples, axis = 0)\n",
    "  samples = samples <= 1\n",
    "  volume[i] = volC * np.mean(samples)\n",
    "  # IMPORTANT: the std must be multiplied by the volume of the \n",
    "  # generating C!!!\n",
    "  uncertainty[i] = z * volC * np.std(samples, ddof = 1) / np.sqrt(N)\n",
    "\n",
    "  \n",
    "\n",
    "plt.plot(ds, volume)\n",
    "plt.fill_between(ds, volume-uncertainty, volume+uncertainty, alpha = 0.25)\n",
    "plt.xlabel(\"Dimension $d$\")\n",
    "plt.ylabel(\"$d$-dimensional volume\")\n",
    "None"
   ]
  },
  {
   "cell_type": "code",
   "execution_count": null,
   "metadata": {},
   "outputs": [
    {
     "name": "stdout",
     "output_type": "stream",
     "text": [
      "Just used 30 samples, suggested sample size is actually this: 39721.\n",
      "Just used 39721 samples, suggested sample size is actually this: 43209.\n",
      "Just used 43209 samples, suggested sample size is actually this: 43042.\n"
     ]
    }
   ],
   "source": [
    "N = 0\n",
    "Nstar = 30\n",
    "eps = 0.01\n",
    "\n",
    "while(N < Nstar):\n",
    "    N = Nstar\n",
    "    Y = f(np.random.rand(N))\n",
    "    mu = Y.mean()\n",
    "    sigma = Y.var(ddof = 1)**0.5\n",
    "\n",
    "    Nstar = int((z*sigma/(eps*mu))**2)\n",
    "    print(\"Just used %d samples, suggested sample size is actually this: %d.\" % (N, Nstar))"
   ]
  },
  {
   "cell_type": "markdown",
   "metadata": {
    "id": "SiJRsa1od2eL"
   },
   "source": [
    "### Estimating volumes and probabilities\n",
    "\n",
    "Being able to estimate integrals and expected values, also means that we can approximate lots of other stuff, such as probabilities, areas and volumes."
   ]
  },
  {
   "cell_type": "markdown",
   "metadata": {
    "id": "yrW1_pCIeGoG"
   },
   "source": [
    "#### Volume estimation\n",
    "\n",
    "Given any $\\Omega\\subset{\\mathbb{R}^{d}}$ we can estimate the volume of $\\Omega$, denote as $|\\Omega|$, by noting that\n",
    "\n",
    "$$|\\Omega|=|C|\\cdot\\mathbb{E}[\\mathbf{1}_{\\Omega}(\\mathbf{X})]=|C|\\cdot\\mathbb{E}[Y]$$\n",
    "\n",
    "whenever $\\Omega\\subseteq C$ and $\\mathbf{X}\\sim\\mathcal{U}_{C}$. In particular, if one takes $C$ to be a suitable hypercube containing $\\Omega$, then $\\mathbf{X}$ is easily generated and estimating $|\\Omega|$ becomes straightforward!"
   ]
  },
  {
   "cell_type": "markdown",
   "metadata": {
    "id": "8BPX9ZHQfSFh"
   },
   "source": [
    "<mark>**Exercise 2**</mark></br>\n",
    "\n",
    "Let $B_d$ denote the unit ball in $\\mathbb{R}^{d}$,\n",
    "$$B_d:=\\{(x_1,\\dots,x_d)\\in\\mathbb{R}^{d}\\;:\\;x_1^2+\\dots+x_d^2\\le 1\\}.$$\n",
    "Leveraging the fact that $B_d\\subset[-1,1]^d$, estimate the volume of the unit ball for $d=3,\\dots,10$ using, each time, a Monte Carlo sample of size $N=10^5$. Show your results in a plot, highlighting how $|B_d|$ changes with $d$. To ensure robustness, enrich your plot by including the 95% confidence bands."
   ]
  },
  {
   "cell_type": "code",
   "execution_count": 15,
   "metadata": {
    "id": "IMOIliK4bV0a"
   },
   "outputs": [
    {
     "data": {
      "image/png": "[encoded data removed]",
      "text/plain": [
       "<Figure size 640x480 with 1 Axes>"
      ]
     },
     "metadata": {},
     "output_type": "display_data"
    }
   ],
   "source": [
    "ds = np.arange(3, 11) # array of spatial dimensions d = 3,...,10\n",
    "volume = np.zeros(len(ds))\n",
    "uncertainty = np.zeros(len(ds))\n",
    "\n",
    "N = 100000\n",
    "alpha = 0.05\n",
    "z = norm.ppf(1.0-alpha/2.0)\n",
    "\n",
    "for i in range(len(ds)):\n",
    "  # Generating points\n",
    "  d = ds[i]\n",
    "  volC = 2 ** d\n",
    "  samples = 2*np.random.uniform(size = (d, N)) - 1\n",
    "  samples = np.pow(samples, 2)\n",
    "  samples = np.add.reduce(samples, axis = 0)\n",
    "  samples = samples <= 1\n",
    "  volume[i] = volC * np.mean(samples)\n",
    "  # IMPORTANT: the std must be multiplied by the volume of the \n",
    "  # generating C!!!\n",
    "  uncertainty[i] = z * volC * np.std(samples, ddof = 1) / np.sqrt(N)\n",
    "\n",
    "  \n",
    "\n",
    "plt.plot(ds, volume)\n",
    "plt.fill_between(ds, volume-uncertainty, volume+uncertainty, alpha = 0.25)\n",
    "plt.xlabel(\"Dimension $d$\")\n",
    "plt.ylabel(\"$d$-dimensional volume\")\n",
    "None"
   ]
  },
  {
   "cell_type": "markdown",
   "metadata": {},
   "source": [
    "The bands are bigger since once the volume augments, it is more difficult to actually hit the unit hyperball inside the unit hypercube. This is easily seen by the factor $2^d$ in the calculation of the C.I."
   ]
  },
  {
   "cell_type": "markdown",
   "metadata": {
    "id": "7oWlpAP3jlZl"
   },
   "source": [
    "#### Probability estimation\n",
    "\n",
    "As we mentioned, we can also estimate events probabilities. For instance, given a random variable $X$ and an event $A\\subset\\mathbb{R}$, we have\n",
    "\n",
    "$$\\mathbb{P}(X\\in A)=\\mathbb{E}[\\mathbf{1}_A(X)]=\\mathbb{E}[Y].$$\n",
    "\n",
    "Equivalently, if $X$ has density $p$,\n",
    "\n",
    "$$\\mathbb{P}(X\\in A)=\\int_{\\mathbb{R}}\\mathbf{1}_{A}(x)p(x)dx=\\mathbb{E}[Y],$$\n",
    "\n",
    "that is: we are back to our original problem of integral estimation where $f(x):=\\mathbf{1}_{A}(x)$."
   ]
  },
  {
   "cell_type": "markdown",
   "metadata": {
    "id": "M_-QljUGkcj0"
   },
   "source": [
    "<mark>**Exercise 3** (A simple physical model)</mark></br>\n",
    "\n",
    "Consider the spring system represented in the figure below, consisting of four nominally identical springs with elastic constants $k_i$, $i = 1,\\dots, 4$ and subject to unit concentrated forces $F_1 = F_2 = F_3 = 1.$\n",
    "Let $x_1, x_2$ and $x_3$ be the horizontal displacements of the three nodes, as indicated in the picture. The equilibrium equations of the horizontal component of the force in the nodes are</br></br>\n",
    "\n",
    "$$\\begin{cases}\n",
    "k_1x_1+k_2(x_1-x_2)=F_1\\\\\n",
    "k_2(x_2-x_1)+k_3(x_2-x_3)=F_2\\\\\n",
    "k_3(x_3-x_2)+k_4x_3=F_3\n",
    "\\end{cases}\n",
    "\\iff\n",
    "\\left[\n",
    "  \\begin{array}{ccc}\n",
    "  k_1+k_2 & -k_2 & 0\\\\\n",
    "  -k_2 & k_2+k_3 & -k_3\\\\\n",
    "  0 & -k_3 & k_3+k_4\n",
    "  \\end{array}\n",
    "\\right]\n",
    "\\left[\n",
    "  \\begin{array}{c}\n",
    "  x_1\\\\\n",
    "  x_2\\\\\n",
    "  x_3\n",
    "  \\end{array}\n",
    "\\right]=\n",
    "\\left[\n",
    "  \\begin{array}{c}\n",
    "  F_1\\\\\n",
    "  F_2\\\\\n",
    "  F_3\n",
    "  \\end{array}\n",
    "\\right].\n",
    "$$\n",
    "</br>\n",
    "Now suppose that the four springs are randomly extracted from a population of springs having elasticity constant distributed as a lognormal random variable with parameters $\\mu = 1$ and $\\sigma=0.5$, that is, $k=e^{X}$ with $X\\sim\\mathcal{N}(\\mu,\\sigma^2)$. We want to calculate the probability that $x_2>1.2$, which corresponds to calculating the four dimensional integral\n",
    "\n",
    "$$\\mathbb{P}\\left(x_2>1.2\\right)=\\int_{\\mathbb{R}^4}\\mathbf{1}_{(1.2,+\\infty)}(x_2(k_1,\\dots,k_4))p(k_1,\\dots,k_4)dk_1\\dots dk_4,$$\n",
    "\n",
    "where $p$ is the joint probability distribution of the elasticity constants $k_1, k_2, k_3, k_4$."
   ]
  },
  {
   "cell_type": "code",
   "execution_count": null,
   "metadata": {
    "colab": {
     "base_uri": "https://localhost:8080/",
     "height": 191
    },
    "id": "hxROo0WEhFWj",
    "outputId": "ac9902f2-8ea1-4ce4-9a4b-57393ee0ccc4"
   },
   "outputs": [
    {
     "data": {
      "image/png": "[encoded data removed]",
      "text/plain": [
       "<Figure size 1200x200 with 1 Axes>"
      ]
     },
     "metadata": {},
     "output_type": "display_data"
    }
   ],
   "source": [
    "import matplotlib.image as mpimg\n",
    "try:\n",
    "  picture = mpimg.imread('figure.png')\n",
    "except:\n",
    "  import gdown\n",
    "  gdown.download(id = \"1qowms4UJMnVSIZLcCFF1kfipzREZX1uI\", output = \"figure.png\", quiet = True)\n",
    "  picture = mpimg.imread('figure.png')\n",
    "\n",
    "plt.figure(figsize = (12, 2))\n",
    "plt.imshow(picture)\n",
    "plt.axis('off')\n",
    "plt.show()"
   ]
  },
  {
   "cell_type": "markdown",
   "metadata": {
    "id": "no-IRj06CcqW"
   },
   "source": [
    "**Ex. 3.1** Sample 1000 times the random variable $x_2 = x_2(k_1, k_2, k_3, k_4)$. Inspect the sample through an histogram."
   ]
  },
  {
   "cell_type": "code",
   "execution_count": null,
   "metadata": {
    "id": "3nLqRRwbpE5t"
   },
   "outputs": [],
   "source": [
    "F1, F2, F3 = 1, 1, 1\n",
    "\n",
    "km = 1   # mean of log(k_i)\n",
    "ks = 0.5 # standard deviation of log(k_i)\n",
    "\n",
    "N = 1000\n",
    "X2 = np.zeros(N)\n",
    "\n",
    "for i in range(N):\n",
    "    #TODO ...\n",
    "    #TODO ...\n",
    "    #TODO ..."
   ]
  },
  {
   "cell_type": "markdown",
   "metadata": {
    "id": "f8dFHJl1RKaD"
   },
   "source": [
    "**Ex. 3.2** Estimate, on the basis of the previous sampling, the number of Monte Carlo samples required to estimate the probability $\\mathbb{P}\\left(x_2>1.2\\right)$ with a relative error smaller than $5\\%$ with a confidence level of $95\\%$. Then, proceed with the estimation.\n"
   ]
  },
  {
   "cell_type": "code",
   "execution_count": null,
   "metadata": {
    "id": "Zu78gbPOqJfu"
   },
   "outputs": [],
   "source": [
    "#TODO ...\n",
    "#TODO ...\n",
    "#TODO ..."
   ]
  },
  {
   "cell_type": "code",
   "execution_count": null,
   "metadata": {
    "id": "_k_3F59Uqbu3"
   },
   "outputs": [],
   "source": [
    "#TODO ...\n",
    "#TODO ...\n",
    "#TODO ..."
   ]
  },
  {
   "cell_type": "markdown",
   "metadata": {
    "id": "kF7rO9hlRr3H"
   },
   "source": [
    "**Ex. 3.3** Repeat the previous point by changing the event to $\\{x_2 > 1.5\\}$. What conclusions can be drawn about the estimation of probabilities of rare events via Monte Carlo?"
   ]
  },
  {
   "cell_type": "code",
   "execution_count": null,
   "metadata": {
    "id": "riUY-1amrzUZ"
   },
   "outputs": [],
   "source": [
    "#TODO ...\n",
    "#TODO ...\n",
    "#TODO ..."
   ]
  },
  {
   "cell_type": "markdown",
   "metadata": {
    "id": "xfbX_KiusG_D"
   },
   "source": [
    "## Quasi-Monte Carlo methods\n",
    "\n",
    "Quasi-Monte Carlo (QMC) methods are an alternative to classical Monte Carlo that aim at improving the convergence rate with respect to $N$. In particular, methods of this kind can provide a convergence of order close to $O\\left(1/N\\right)$ as opposed to $O(N^{-1/2})$. Specifically, some of these approaches achieve a convergence rate of $O\\left(\\log(N)^d/N\\right)$ when estimating $d$-dimensional integrals.\n",
    "\n",
    "\n",
    "In a nutshell, the idea behind QMC is still to rely on a \"Monte Carlo like\" approximation\n",
    "\n",
    "$$\\int_{[0,1]^{d}}f(x)dx\\approx \\frac{1}{N}\\sum_{i=1}^{N}f(x_i)$$\n",
    "\n",
    "but the points $x_1,\\dots,x_N$ are chosen in a special (often deterministic) way. Specifically, they are chosen in order to cover the integration domain $[0,1]^d$ \"as much as possible\". Sequences of this kind are known as *low-discrepancy sequences* (see [The Koksma-Hlawka inequality](https://en.wikipedia.org/wiki/Low-discrepancy_sequence#The_Koksma.E2.80.93Hlawka_inequality)). Examples include **Sobol** and **Halton sequences**. The code below shows how these (deterministic) sampling strategies compare to classical uniform sampling in 2D. Everything is implemented in the submodule $\\textsf{stats.qmc}$ of $\\textsf{scipy}$."
   ]
  },
  {
   "cell_type": "code",
   "execution_count": 22,
   "metadata": {
    "id": "gkI_m-vlr9Qh"
   },
   "outputs": [
    {
     "data": {
      "image/png": "[encoded data removed]",
      "text/plain": [
       "<Figure size 900x300 with 3 Axes>"
      ]
     },
     "metadata": {},
     "output_type": "display_data"
    }
   ],
   "source": [
    "N = 128 # choosing powers of 2 is best for some QMC approaches such as Sobol sequencing\n",
    "plt.figure(figsize = (9, 3))\n",
    "\n",
    "# Uniform sampling\n",
    "x = np.random.rand(N, 2)\n",
    "\n",
    "plt.subplot(1,3,1)\n",
    "plt.plot([0,1,1,0,0], [0,0,1,1,0], '--')\n",
    "plt.plot(x[:,0], x[:, 1], '.')\n",
    "plt.axis(\"square\")\n",
    "plt.axis(\"off\")\n",
    "plt.title(\"Uniform (random)\")\n",
    "\n",
    "# Sobol\n",
    "from scipy.stats.qmc import Sobol\n",
    "sobol = Sobol(d=2, scramble=False) # sequence generator\n",
    "x = sobol.random(N)\n",
    "\n",
    "plt.subplot(1,3,2)\n",
    "plt.plot([0,1,1,0,0], [0,0,1,1,0], '--')\n",
    "plt.plot(x[:,0], x[:, 1], '.')\n",
    "plt.axis(\"square\")\n",
    "plt.axis(\"off\")\n",
    "plt.title(\"Sobol\")\n",
    "\n",
    "# Halton\n",
    "from scipy.stats.qmc import Halton\n",
    "halton = Halton(d=2, scramble=False) # sequence generator\n",
    "x = halton.random(N)\n",
    "\n",
    "plt.subplot(1,3,3)\n",
    "plt.plot([0,1,1,0,0], [0,0,1,1,0], '--')\n",
    "plt.plot(x[:,0], x[:, 1], '.')\n",
    "plt.axis(\"square\")\n",
    "plt.axis(\"off\")\n",
    "plt.title(\"Halton\")\n",
    "None"
   ]
  },
  {
   "cell_type": "markdown",
   "metadata": {
    "id": "KVaUsWsJHcHf"
   },
   "source": [
    "NB: QMC methods typically rely on a **deterministic** sampling of the unit hypercube $[0,1]^d$. While potentially useful, the absence of randomness makes it harder to produce error estimates. For this reason, **these methods can be randomized** on purpose. A classical strategy for doing so is to rely on random shifting, i.e. on the transformation\n",
    "$$\\tilde{x}_i=(x_i+U)\\;\\text{mod}\\;1$$\n",
    "\n",
    "where $U\\sim\\mathcal{U}([0,1]^d)$. Then, one can recover the advantages of random methods, such as the use of confidence intervals to estimate the approximation accuracy. For Sobol and Halton sequences, in $\\textsf{scipy}$, this is achieved by setting the optional argument \"$\\textsf{scramble}$\" to True."
   ]
  },
  {
   "cell_type": "markdown",
   "metadata": {
    "id": "wsVJ8hSPJrLr"
   },
   "source": [
    "<mark>**Exercise 4**</mark></br>\n",
    "\n",
    "Consider the following 5-dimensional integral in the variables $x,y,z,w,v$,\n",
    "\n",
    "$$I=\\int_{[-1,1]^5}\\frac{x^3y^2e^{wv}}{1+z^4}dx\\dots dv.$$\n",
    "\n",
    "Clearly, $I=0$, since it is an odd function in $x$.\n",
    "\n",
    "Pretending not to know this fact, estimate $I$ using $N=2^5,\\dots,2^{20}$ collocation points. To this end, employ both MC and QMC (e.g., Sobol) and compare the results. In particular, plot the trend of $|I-I_N|$ for varying $N$. Do you observe the desired improvement in the convergence rate?"
   ]
  },
  {
   "cell_type": "code",
   "execution_count": 17,
   "metadata": {
    "id": "pedTaJBzE4iO"
   },
   "outputs": [],
   "source": [
    "d = 5\n",
    "f = lambda x, y, z, w, v: x**3*y**2*np.exp(w*v)/(1.0+z**4)\n",
    "Ns = 2**np.arange(5, 21)"
   ]
  },
  {
   "cell_type": "code",
   "execution_count": 30,
   "metadata": {
    "id": "yb7ng_pJOwor"
   },
   "outputs": [
    {
     "data": {
      "text/plain": [
       "np.float64(0.03663168869791111)"
      ]
     },
     "execution_count": 30,
     "metadata": {},
     "output_type": "execute_result"
    }
   ],
   "source": [
    "N = 256\n",
    "xrandom = 2*np.random.rand(N, d) - 1\n",
    "\n",
    "# Using fancy tuple unpacking B)\n",
    "(2**5)*f(*xrandom.T).mean()"
   ]
  },
  {
   "cell_type": "code",
   "execution_count": 33,
   "metadata": {},
   "outputs": [
    {
     "data": {
      "text/plain": [
       "np.float64(-0.04028511062266188)"
      ]
     },
     "execution_count": 33,
     "metadata": {},
     "output_type": "execute_result"
    }
   ],
   "source": [
    "N = 256\n",
    "# the scramble = true option is used to have slight perturbations \n",
    "# on the points. this allows for the use c.i.\n",
    "sobol = Sobol(d = 5, scramble = False)\n",
    "xsobol = 2*sobol.random(N) - 1\n",
    "\n",
    "# Using fancy tuple unpacking B)\n",
    "(2**5)*f(*xsobol.T).mean()"
   ]
  }
 ],
 "metadata": {
  "colab": {
   "provenance": [],
   "toc_visible": true
  },
  "kernelspec": {
   "display_name": "comp-statistics-py3.12 (3.12.3)",
   "language": "python",
   "name": "python3"
  },
  "language_info": {
   "codemirror_mode": {
    "name": "ipython",
    "version": 3
   },
   "file_extension": ".py",
   "mimetype": "text/x-python",
   "name": "python",
   "nbconvert_exporter": "python",
   "pygments_lexer": "ipython3",
   "version": "3.12.3"
  }
 },
 "nbformat": 4,
 "nbformat_minor": 4
}
