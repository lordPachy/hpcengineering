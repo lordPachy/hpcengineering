{
 "cells": [
  {
   "cell_type": "markdown",
   "metadata": {
    "id": "gvBhofLlNH1K"
   },
   "source": [
    "# **Lab 4 - Random fields and the Kosambi-Karhunen-Loève expansion**"
   ]
  },
  {
   "cell_type": "markdown",
   "metadata": {
    "id": "W0sE2wQgtj8V"
   },
   "source": [
    "## Synthetic overview from a theoretical perspective"
   ]
  },
  {
   "cell_type": "markdown",
   "metadata": {
    "id": "8yf6Ri9LNtKR"
   },
   "source": [
    "Let $\\Omega\\subset\\mathbb{R}^{d}$. A random field over $\\Omega$ is a family of random variables $\\{Z_{x}\\}_{x\\in\\Omega}$ indexed over $\\Omega$. Equivalently, it can be thought as a random function $Z$ defined over the spatial domain $\\Omega$ (rather than a collection of scalar random variables).\n",
    "\n",
    "Specifically, let us denote by $\\omega$ an arbitrary event in the probability space, so that $Z_x(\\omega)$ is the value attained by $Z_x$. Then,\n",
    "\n",
    "$$Z(x,\\omega):=Z_x(\\omega).$$\n",
    "\n",
    "In particular, we see that, for each event $\\omega$, the object $Z(\\cdot,\\omega)$ is a map $\\Omega\\to\\mathbb{R}$.\n",
    "In this sense, we can think of $Z$ as a *function-valued* random variable.\n",
    "\n",
    "\n",
    "We have the following result due to D. Kosambi, K. Karhunen and Michel Loève. </br></br>\n",
    "\n",
    "________________\n",
    "\n",
    "**Theorem (KKL expansion).**\n",
    "\n",
    "Assume that $\\int_{\\Omega}\\mathbb{E}|Z(x,\\cdot)|^2dx<+\\infty$. Then, there exists a deterministic mean function, $\\mu\\in L^{2}(\\Omega)$, a family of orthonormal random variables $\\{\\psi_{i}\\}_{i=1}^{+\\infty}\\subset L^{2}(\\Omega)$, a nonincreasing vanishing sequence $\\lambda_1\\ge\\lambda_2\\ge\\dots\\ge0$, and a family of scalar random variables $\\{\\xi_i\\}_{i=1}^{+\\infty}$ with\n",
    "\n",
    "$$\\mathbb{E}[\\xi_i,\\xi_j]=\\delta_{i,j}\\quad\\text{and}\\quad\\mathbb{E}[\\xi_i]=0\\quad\\forall i,j$$\n",
    "\n",
    "such that\n",
    "\n",
    "$$Z(x,\\omega)=\\mu(x)+\\sum_{i=1}^{+\\infty}\\xi_i(\\omega)\\sqrt{\\lambda_i}\\psi_i(x)$$\n",
    "\n",
    "holds $\\mathbb{P}$-almost surely in $\\omega$ and almost everywhere in $x$. Furthermore, for every $n\\in\\mathbb{N}$, the truncated field\n",
    "$Z_n(x)=\\mu(x)+\\sum_{i=1}^{n}\\xi_i\\sqrt{\\lambda_i}\\psi_i(x)$\n",
    "is the best approximation of $Z$ in terms a random field based off $n$ modes. Specifically,\n",
    "\n",
    "$$\\mathbb{E}\\|Z-Z_n\\|_{L^{2}(\\Omega)}^2=\\sum_{i>n}\\lambda_i.$$\n",
    "\n",
    "Finally, the scalars $\\lambda_i$ and the functions $\\psi_i$ are actually the eigenvalues and eigevectors of the covariance operator, respectively. That is,\n",
    "\n",
    "$$\\int_{\\Omega}K(x,y)\\psi_i(y)dy=\\lambda_i\\psi_i(x)\\quad\\forall x\\in\\Omega,$$\n",
    "\n",
    "for all $i$, where\n",
    "\n",
    "$$K(x,y):=\\text{Cov}(Z(x), Z(y))=\\mathbb{E}[(Z(x)-\\mu(x))(Z(y)-\\mu(y))].$$\n",
    "\n",
    "________________"
   ]
  },
  {
   "cell_type": "markdown",
   "metadata": {
    "id": "MuHwrv17tsA5"
   },
   "source": [
    "### Gaussian processes\n",
    "\n",
    "Gaussian processes are a particular type of random fields which have the following additional property: for every finite number of points $x_1,\\dots,x_q$, the vector $[Z(x_1),\\dots,Z(x_q)]^\\top\\in\\mathbb{R}^{q}$ is Gaussian. In particular, all the variables $Z_x=Z(x)$ are normally distributed.\n",
    "\n",
    "In this case, it can be proven that the $\\xi_i$'s in the KKL expansion of $Z$ are actually **independent standard gaussians** $\\xi_i\\sim\\mathcal{N}(0,1)$.\n",
    "\n",
    "Consequently, the distribution of a Gaussian random field is uniquely characterized by its mean function $\\mu=\\mu(x)$ and its covariance function $K=K(x,y)$. In particular, given $\\mu$ and $K$ we can leverage the KKL expansion to draw samples from a Gaussian process of choice! Ideally, we should follow these steps:\n",
    "\n",
    "1. Choose $\\mu$ and $K$\n",
    "2. Approximate the eigenvalues and eigenfunctions of $K$ by relying on suitable discretization techniques</br>\n",
    "(e.g., finite elements, quadrature rules, etc.)\n",
    "3. Sample the coefficients $\\xi_i\\sim\\mathcal{N}(0,1)$\n",
    "4. Put things together using the KKL expansion\n",
    "\n",
    "\n",
    "**Note**. When the covariance function can be expressed as $K(x,y)=\\kappa(|x-y|)$ for some $\\kappa:\\mathbb{R}\\to\\mathbb{R}$, the random field is said to be *isotropic* or *stationary*. In general, it can be proven that smoother choices of $\\kappa$ result in smoother fields.\n",
    "\n",
    "Classical choices of such $\\kappa$ are\n",
    "\n",
    "$$\\kappa_{exp}(r)=\\sigma^2 \\exp\\left(-\\frac{r}{l}\\right)\\quad\\text{and}\\quad\\kappa_{sq}(r)=\\sigma^2 \\exp\\left(-\\frac{r^{2}}{2l^2}\\right)$$\n",
    "\n",
    "respectively referred to as *exponential* and *squared exponential*. Here, $\\sigma^2,l>0$ are suitable parameters commonly referred to as *variance of the field* and *correlation length*.\n",
    "\n"
   ]
  },
  {
   "cell_type": "markdown",
   "metadata": {
    "id": "eYRXNuiaLaBP"
   },
   "source": [
    "## Preliminary step: approximating KKL modes via Finite Elements\n",
    "\n",
    "We use finite elements as a discretization tool (P1 continuous Lagrangian elements). Having introduced a suitable mesh over $\\Omega$ with $N_h$ vertices, $\\{x_i\\}_{i=1}^{N_h}$,\n",
    "\n",
    "- Each continuous function $u:\\Omega\\to\\mathbb{R}$ will be represented by its vector of nodal values $\\mathbf{u}=[u(x_1),\\dots,u(x_{N_h})]^\\top\\in\\mathbb{R}^{N_h}$;\n",
    "\n",
    "- The integral operator $$\\mathcal{K}:\\varphi\\mapsto \\int_{\\Omega}K(\\cdot,y)\\varphi(y)dy,$$ associated to the covariance kernel $K$, will be represented by a matrix $\\mathbf{K}\\in\\mathbb{R}^{N_h\\times N_h}.$\n",
    "\n",
    "This will allow us to find the eigenvectors $\\boldsymbol{\\psi}_1,\\dots,\\boldsymbol{\\psi}_{N_h}$ representing an approximation of the eigenfunctions $\\psi_1,\\dots,\\psi_{N_h}$."
   ]
  },
  {
   "cell_type": "markdown",
   "metadata": {
    "id": "WhH786TLlsve"
   },
   "source": [
    "The pieces of code right below implement several things, three of which are:\n",
    "\n",
    "- $\\textsf{assembleM}$: a function that, given the mesh, returns the $L^{2}$ mass matrix $\\mathbf{M}$. The latter is defined such that\n",
    "$$\\|u\\|_{L^{2}(\\Omega)}^{2}=\\mathbf{u}^\\top\\mathbf{M}\\mathbf{u}\\quad\\text{and}\\quad\\int_{\\Omega}uv=\\mathbf{v}^\\top\\mathbf{M}\\mathbf{u},$$\n",
    "whenever $u$ and $v$ are functions in the finite element space.\n",
    "\n",
    "- $\\textsf{assembleK}$: this one, given a mesh and a kernel function $\\kappa$, returns a representation of the covariance kernel operator $\\mathbf{K}\\in\\mathbb{R}^{N_h\\times N_h}$\n",
    "\n",
    "- $\\textsf{KKLdecomposition}$: given a mesh and a kernel $\\kappa$, returns the eigenvalues and eigenvectors of the covariance kernel operator. NB: Eigenvectors are constructed to be $\\mathbf{M}$-orthonormal; eigenvalues (and eigenvectors) are sorted so that $\\lambda_{i}\\ge\\lambda_{i+1}$. To ease further inspections, this function also returns $\\mathbf{M}$ as an additional output."
   ]
  },
  {
   "cell_type": "markdown",
   "metadata": {
    "id": "V9Pkk2H28ICb"
   },
   "source": [
    "### Quick intro to Finite Element representations"
   ]
  },
  {
   "cell_type": "code",
   "execution_count": 4,
   "metadata": {
    "id": "0VVfoc-iR0pQ"
   },
   "outputs": [],
   "source": [
    "try:\n",
    "     import dlroms.fespaces as fe\n",
    "except:\n",
    "     !pip install --no-deps git+https://github.com/NicolaRFranco/dlroms.git\n",
    "     import dlroms.fespaces as fe\n",
    "\n",
    "import numpy as np\n",
    "import matplotlib.pyplot as plt\n",
    "from dlroms import clc"
   ]
  },
  {
   "cell_type": "code",
   "execution_count": 5,
   "metadata": {
    "colab": {
     "base_uri": "https://localhost:8080/",
     "height": 108
    },
    "id": "UwXtadyz6-jL",
    "outputId": "4eba30a6-33f2-4c38-c900-bdf6d35e21fb"
   },
   "outputs": [
    {
     "ename": "ModuleNotFoundError",
     "evalue": "No module named 'fenics'",
     "output_type": "error",
     "traceback": [
      "\u001b[31m---------------------------------------------------------------------------\u001b[39m",
      "\u001b[31mModuleNotFoundError\u001b[39m                       Traceback (most recent call last)",
      "\u001b[36mCell\u001b[39m\u001b[36m \u001b[39m\u001b[32mIn[5]\u001b[39m\u001b[32m, line 2\u001b[39m\n\u001b[32m      1\u001b[39m \u001b[38;5;66;03m# Finite elements (1d example)\u001b[39;00m\n\u001b[32m----> \u001b[39m\u001b[32m2\u001b[39m mesh = \u001b[43mfe\u001b[49m\u001b[43m.\u001b[49m\u001b[43munitintervalmesh\u001b[49m\u001b[43m(\u001b[49m\u001b[32;43m10\u001b[39;49m\u001b[43m)\u001b[49m\n\u001b[32m      3\u001b[39m fe.plot(mesh)\n\u001b[32m      4\u001b[39m plt.title(\u001b[33m\"\u001b[39m\u001b[33mMesh in 1d\u001b[39m\u001b[33m\"\u001b[39m)\n",
      "\u001b[36mFile \u001b[39m\u001b[32m~/Desktop/HPCE/hpcengineering/Computational Statistics/.venv/lib/python3.12/site-packages/dlroms/fespaces.py:294\u001b[39m, in \u001b[36munitintervalmesh\u001b[39m\u001b[34m(n)\u001b[39m\n\u001b[32m    285\u001b[39m \u001b[38;5;28;01mdef\u001b[39;00m\u001b[38;5;250m \u001b[39m\u001b[34munitintervalmesh\u001b[39m(n):\n\u001b[32m    286\u001b[39m \u001b[38;5;250m    \u001b[39m\u001b[33;03m\"\"\"Yields a evenly spaced grid in [0,1] with n subintervals.\u001b[39;00m\n\u001b[32m    287\u001b[39m \u001b[33;03m    \u001b[39;00m\n\u001b[32m    288\u001b[39m \u001b[33;03m    Input\u001b[39;00m\n\u001b[32m   (...)\u001b[39m\u001b[32m    292\u001b[39m \u001b[33;03m        (dolfin.cpp.mesh.Mesh).\u001b[39;00m\n\u001b[32m    293\u001b[39m \u001b[33;03m    \"\"\"\u001b[39;00m\n\u001b[32m--> \u001b[39m\u001b[32m294\u001b[39m     \u001b[38;5;28;01mfrom\u001b[39;00m\u001b[38;5;250m \u001b[39m\u001b[34;01mfenics\u001b[39;00m\u001b[38;5;250m \u001b[39m\u001b[38;5;28;01mimport\u001b[39;00m IntervalMesh\n\u001b[32m    295\u001b[39m     \u001b[38;5;28;01mreturn\u001b[39;00m IntervalMesh(n, \u001b[32m0\u001b[39m, \u001b[32m1\u001b[39m)\n",
      "\u001b[31mModuleNotFoundError\u001b[39m: No module named 'fenics'"
     ]
    }
   ],
   "source": [
    "# Finite elements (1d example)\n",
    "mesh = fe.unitintervalmesh(10)\n",
    "fe.plot(mesh)\n",
    "plt.title(\"Mesh in 1d\")\n",
    "None"
   ]
  },
  {
   "cell_type": "code",
   "execution_count": null,
   "metadata": {
    "colab": {
     "base_uri": "https://localhost:8080/"
    },
    "id": "ULUYu1zf7kJ9",
    "outputId": "6eda8c2b-a1ef-48b4-f23b-b60d1f41bc3a"
   },
   "outputs": [],
   "source": [
    "Vh = fe.space(mesh, 'CG', 1) # Finite element space associated to the mesh\n",
    "clc()\n",
    "\n",
    "fe.dofs(Vh)"
   ]
  },
  {
   "cell_type": "code",
   "execution_count": null,
   "metadata": {
    "colab": {
     "base_uri": "https://localhost:8080/",
     "height": 291
    },
    "id": "7yq3hCq18FiT",
    "outputId": "07068cc9-cc51-4d04-9e10-6db1a678787f"
   },
   "outputs": [],
   "source": [
    "u = np.array([0, 1, 2, 2, 0, -1, -1, 1, 1, 1, 0])\n",
    "plt.figure(figsize = (4, 3))\n",
    "fe.plot(u, Vh, axis = \"on\")"
   ]
  },
  {
   "cell_type": "code",
   "execution_count": null,
   "metadata": {
    "colab": {
     "base_uri": "https://localhost:8080/",
     "height": 290
    },
    "id": "5DczsR0x7iSk",
    "outputId": "78138145-5618-49bb-99d9-f4248321c3fe"
   },
   "outputs": [],
   "source": [
    "# Finite elements (2d example)\n",
    "mesh = fe.unitsquaremesh(2, 2)\n",
    "plt.figure(figsize = (4, 3))\n",
    "fe.plot(mesh)\n",
    "plt.title(\"Mesh in 2d\")\n",
    "None"
   ]
  },
  {
   "cell_type": "code",
   "execution_count": null,
   "metadata": {
    "colab": {
     "base_uri": "https://localhost:8080/"
    },
    "id": "oPc0Tl9s73dZ",
    "outputId": "2d76e6b0-d281-4949-9c87-51bfccdff385"
   },
   "outputs": [],
   "source": [
    "Vh = fe.space(mesh, 'CG', 1)\n",
    "clc()\n",
    "\n",
    "fe.dofs(Vh)"
   ]
  },
  {
   "cell_type": "code",
   "execution_count": null,
   "metadata": {
    "colab": {
     "base_uri": "https://localhost:8080/",
     "height": 374
    },
    "id": "HbTWo8pm-r-r",
    "outputId": "45c636d6-cc67-4665-c7c8-d2fd72821d80"
   },
   "outputs": [],
   "source": [
    "u = np.array([0, 0, 0, 0, 0, 1, 1, 1, 2])\n",
    "plt.figure(figsize = (4, 4))\n",
    "fe.plot(u, Vh, axis = \"on\")"
   ]
  },
  {
   "cell_type": "markdown",
   "metadata": {
    "id": "RpV44i5J8QHT"
   },
   "source": [
    "## KKL implementation"
   ]
  },
  {
   "cell_type": "markdown",
   "metadata": {
    "id": "UOcC_zUO6YmU"
   },
   "source": [
    "<mark>**Exercise 1**</mark></br>\n",
    "\n",
    "Complete the definition of the functions $\\textsf{assembleK}$ and $\\textsf{KKLdecomposition}$ by filling the gaps."
   ]
  },
  {
   "cell_type": "code",
   "execution_count": null,
   "metadata": {
    "id": "UttUmeCR873Y"
   },
   "outputs": [],
   "source": [
    "def assembleM(Vh):\n",
    "  from fenics import assemble, dx, TrialFunction, TestFunction\n",
    "  u, v = TrialFunction(Vh), TestFunction(Vh) # symbols\n",
    "  M = assemble(u*v*dx).array()               # bilinear form is assembled and converted to array\n",
    "  clc()\n",
    "  return M\n",
    "\n",
    "def assembleK(k, Vh):\n",
    "  import inspect\n",
    "  if(len(inspect.signature(k).parameters)!=1):\n",
    "    raise RuntimeError(\"This function accepts isotropic kernels only (k should be a function of a single argument).\")\n",
    "\n",
    "  vertices = fe.dofs(Vh)             # Nh x d array listing all vertices\n",
    "  dim = vertices.shape[1]              # spatial dimension\n",
    "\n",
    "    # Constructing the matrix C with Cij = k(|x_i-x_j|)\n",
    "  # TO DO...\n",
    "  # TO DO...\n",
    "  # TO DO...\n",
    "\n",
    "  # Adjusting to include quadrature rules (K is an integral operator!)\n",
    "  # TO DO...\n",
    "  # TO DO...\n",
    "  # TO DO...\n",
    "\n",
    "  return K"
   ]
  },
  {
   "cell_type": "code",
   "execution_count": null,
   "metadata": {
    "id": "uqN0LDW6U0eb"
   },
   "outputs": [],
   "source": [
    "def KKLdecomposition(kernel, mesh):\n",
    "  from scipy.linalg import eigh\n",
    "  K = assembleK(kernel, mesh)\n",
    "  M = assembleM(mesh)\n",
    "\n",
    "  # Solving the eigenvalue problem (with M-orthogonality)\n",
    "  # TO DO...\n",
    "  # TO DO...\n",
    "  # TO DO...\n",
    "\n",
    "  nmax = sum(lambdas>0)               # negative values may appear due to floating point errors\n",
    "  lambdas = lambdas[:nmax]\n",
    "  psis = psis[:, :nmax]\n",
    "  return lambdas, psis, M"
   ]
  },
  {
   "cell_type": "markdown",
   "metadata": {
    "id": "eMy8DiIEkgfQ"
   },
   "source": [
    "<mark>**Exercise 2.1 (Test case with $\\;d=1$)**</mark></br>\n",
    "\n",
    "Check your code on the following 1D example where $\\Omega=(0,1)$ and $\\kappa(r)=e^{-r/2}.$\n",
    "\n",
    "Aside from plotting, double-check that the approximated eigenfunctions $\\psi_i$ are orthonormal in the $L^{2}$ sense."
   ]
  },
  {
   "cell_type": "code",
   "execution_count": null,
   "metadata": {
    "id": "hhMADKZwMdvg"
   },
   "outputs": [],
   "source": [
    "mesh = fe.unitintervalmesh(500)\n",
    "Vh = fe.space(mesh, 'CG', 1)\n",
    "clc()\n",
    "\n",
    "kernel = lambda r: np.exp(-0.5*r)\n",
    "lambdas, psis, M = KKLdecomposition(kernel, Vh)"
   ]
  },
  {
   "cell_type": "code",
   "execution_count": null,
   "metadata": {
    "colab": {
     "base_uri": "https://localhost:8080/",
     "height": 307
    },
    "id": "GeBZbMVnTtrb",
    "outputId": "e1c5b0c2-2ff9-4434-b1d2-4f25419bade4"
   },
   "outputs": [],
   "source": [
    "plt.figure(figsize = (12, 3))\n",
    "for i in range(4):\n",
    "  plt.subplot(1,4,i+1)\n",
    "  fe.plot(psis[:, i], Vh)\n",
    "  plt.title(\"Mode #%d\" % (i+1))\n",
    "\n",
    "plt.tight_layout() # ensures a nicer visualization when using multiple subplots"
   ]
  },
  {
   "cell_type": "code",
   "execution_count": null,
   "metadata": {
    "colab": {
     "base_uri": "https://localhost:8080/"
    },
    "id": "KXEm6uT1UeZS",
    "outputId": "a55d6378-5be0-4625-96bc-b5da73b10aae"
   },
   "outputs": [],
   "source": [
    "# Checking L2-orthonormality\n",
    "# TO DO...\n",
    "# TO DO..."
   ]
  },
  {
   "cell_type": "markdown",
   "metadata": {
    "id": "ljzArYnUmpIo"
   },
   "source": [
    "<mark>**Exercise 2.2 (Test case with $\\;d=2$)**</mark></br>\n",
    "\n",
    "Check your code on the following 2D example where $\\Omega=(0,1)\\times(0,1)$ and $\\kappa(r)=e^{-10r^2}.$\n",
    "\n",
    "Aside from plotting, double-check that the approximated eigenfunctions $\\psi_i$ are orthonormal in the $L^{2}$ sense."
   ]
  },
  {
   "cell_type": "code",
   "execution_count": null,
   "metadata": {
    "id": "DTF3bV7i_lhb"
   },
   "outputs": [],
   "source": [
    "mesh = fe.unitsquaremesh(30, 30)\n",
    "Vh = fe.space(mesh, 'CG', 1)\n",
    "clc()\n",
    "\n",
    "kernel = lambda r: np.exp(-10*r**2)\n",
    "lambdas, psis, M = KKLdecomposition(kernel, Vh)"
   ]
  },
  {
   "cell_type": "code",
   "execution_count": null,
   "metadata": {
    "colab": {
     "base_uri": "https://localhost:8080/",
     "height": 259
    },
    "id": "0-zsTcpfQKc4",
    "outputId": "ebb09293-d849-4f44-e87f-6d3d24df7a16"
   },
   "outputs": [],
   "source": [
    "plt.figure(figsize = (12, 3))\n",
    "for i in range(4):\n",
    "  plt.subplot(1,4,i+1)\n",
    "  fe.plot(psis[:, i], Vh, cmap='jet', levels = 50, colorbar = True, shrink = 0.7)\n",
    "  plt.title(\"Mode #%d\" % (i+1))\n",
    "\n",
    "plt.tight_layout()"
   ]
  },
  {
   "cell_type": "code",
   "execution_count": null,
   "metadata": {
    "colab": {
     "base_uri": "https://localhost:8080/"
    },
    "id": "A78uxEmyKLs7",
    "outputId": "2a610e55-e0b3-4758-8f37-912f374682d9"
   },
   "outputs": [],
   "source": [
    "# Checking L2-orthonormality\n",
    "# TO DO...\n",
    "# TO DO..."
   ]
  },
  {
   "cell_type": "markdown",
   "metadata": {
    "id": "pbsMyL79WPKa"
   },
   "source": [
    "## Sampling from a Gaussian process\n",
    "\n",
    "Now, we have all the tools for sampling. In fact, given a mesh, a kernel function $\\kappa$ and a mean function $\\mu$, we can easily obtain a KKL expansion. Then, we simply need to sample independently the coefficients $\\xi_i\\sim\\mathcal{N}(0,1)$ and compute the sum\n",
    "\n",
    "$$\\mathbf{z}=\\boldsymbol{\\mu}+\\sum_{i=1}^{N_h}\\xi_i\\sqrt{\\lambda_i}\\boldsymbol{\\psi}_i.$$\n",
    "\n",
    "For simplicity, hereon, we shall assume $\\boldsymbol{\\mu}=0$ (centered Gaussian process)."
   ]
  },
  {
   "cell_type": "markdown",
   "metadata": {
    "id": "o4k7PqKhnhyt"
   },
   "source": [
    "<mark>**Exercise 3**</mark></br>\n",
    "\n",
    "Write a function called $\\textsf{KKLcombine}$ that, given\n",
    "\n",
    "- a vector of KKL eigenvalues $\\boldsymbol{\\lambda}=[\\lambda_1,\\dots,\\lambda_n]$\n",
    "\n",
    "- a matrix of KKL eigenvectors $\\boldsymbol{\\Psi}=[\\boldsymbol{\\psi}_1,\\dots,\\boldsymbol{\\psi}_n]\\in\\mathbb{R}^{N_h\\times n}$,\n",
    "\n",
    "- a matrix of KKL random coefficients $\\mathbf{\\Xi}=(\\xi_{i,j})\\in\\mathbb{R}^{n\\times N}$, where $\\xi_{i,j}$ is the $i$th random coefficient for the $j$th simulation,\n",
    "\n",
    "returns a sample matrix $\\mathbf{Z}\\in\\mathbb{R}^{N_h\\times N}$ where each column is a random realization of the Gaussian process with associated KKL expansion.\n",
    "\n",
    "Test your implementation on the two test cases right below $(d=1,2)$. Try playing with the kernel function (different $\\kappa$ or different correlation lenghts) to see how the latter affects the smothness and the variability of the trajectories."
   ]
  },
  {
   "cell_type": "code",
   "execution_count": null,
   "metadata": {
    "id": "e3sLKjP_WV0O"
   },
   "outputs": [],
   "source": [
    "def KKLcombine(xis, lambdas_kkl, psis_kkl):\n",
    "  # TO DO...\n",
    "  # TO DO...\n",
    "  # TO DO...\n",
    "  return"
   ]
  },
  {
   "cell_type": "markdown",
   "metadata": {
    "id": "nyhYkN_lxH9L"
   },
   "source": [
    "Case $d=1$"
   ]
  },
  {
   "cell_type": "code",
   "execution_count": null,
   "metadata": {
    "id": "cJFjersTWo2W"
   },
   "outputs": [],
   "source": [
    "mesh = fe.unitintervalmesh(500)\n",
    "Vh = fe.space(mesh, 'CG', 1)\n",
    "clc()\n",
    "\n",
    "kernel = lambda r: np.exp(-10*r**2)\n",
    "lambdas, psis, M = KKLdecomposition(kernel, Vh)"
   ]
  },
  {
   "cell_type": "code",
   "execution_count": null,
   "metadata": {
    "colab": {
     "base_uri": "https://localhost:8080/",
     "height": 314
    },
    "id": "uzCX-61KXE_x",
    "outputId": "84b62579-4a7d-4a50-f617-67b0354386bd"
   },
   "outputs": [],
   "source": [
    "N = 5\n",
    "np.random.seed(0)\n",
    "xis = # TO DO...\n",
    "Z = KKLcombine(xis, lambdas, psis)\n",
    "\n",
    "plt.figure(figsize = (5, 3))\n",
    "plt.title(\"Randomly sampled trajectories\")\n",
    "\n",
    "for i in range(N):\n",
    "  fe.plot(Z[:, i], Vh)\n",
    "\n",
    "seg = lambda a, b, t: (1-t)*a + t*b\n",
    "zmin, zmax = Z.min(), Z.max()\n",
    "plt.axis([0, 1, seg(zmin, zmax, -0.1), seg(zmin, zmax, 1.1)])\n",
    "plt.axis(\"on\")\n",
    "None"
   ]
  },
  {
   "cell_type": "markdown",
   "metadata": {
    "id": "oB7PABrmxF5m"
   },
   "source": [
    "Case $d>1$"
   ]
  },
  {
   "cell_type": "code",
   "execution_count": null,
   "metadata": {
    "id": "4X5wY5AHY7Sx"
   },
   "outputs": [],
   "source": [
    "mesh = fe.unitsquaremesh(30, 30)\n",
    "Vh = fe.space(mesh, 'CG', 1)\n",
    "clc()\n",
    "\n",
    "kernel = lambda r: np.exp(-10*r**2)\n",
    "lambdas, psis, M = KKLdecomposition(kernel, Vh)"
   ]
  },
  {
   "cell_type": "code",
   "execution_count": null,
   "metadata": {
    "id": "HYOYUYeeZhyW"
   },
   "outputs": [],
   "source": [
    "N = 4\n",
    "np.random.seed(1)\n",
    "xis = # TO DO...\n",
    "Z = KKLcombine(xis, lambdas, psis)"
   ]
  },
  {
   "cell_type": "code",
   "execution_count": null,
   "metadata": {
    "colab": {
     "base_uri": "https://localhost:8080/",
     "height": 253
    },
    "id": "aNP9AezdZSX8",
    "outputId": "67337d15-f86e-4d9d-a9b8-f5aed0c21091"
   },
   "outputs": [],
   "source": [
    "plt.figure(figsize = (12, 3))\n",
    "for i in range(4):\n",
    "  plt.subplot(1,4,i+1)\n",
    "  fe.plot(Z[:, i], Vh, levels = 50, colorbar = True, shrink = 0.7)\n",
    "  plt.title(\"Sample #%d\" % (i+1))\n",
    "\n",
    "plt.tight_layout()"
   ]
  },
  {
   "cell_type": "markdown",
   "metadata": {
    "id": "1lRdRImFpwQV"
   },
   "source": [
    "## Double-checking the theory: KKL truncation and field energy\n",
    "\n",
    "As we mentioned the KKL expansion enjoys a useful optimality property related to its truncation. Specifically, for every $n\\in\\mathbb{N}$, the truncated field\n",
    "$Z_n(x)=\\mu(x)+\\sum_{i=1}^{n}\\xi_i\\sqrt{\\lambda_i}\\psi_i(x)$\n",
    "is the best approximation of $Z$ in terms a random field based off $n$ modes. Furthermore, one has the following formula\n",
    "\n",
    "$$\\mathbb{E}\\|Z-Z_n\\|_{L^{2}(\\Omega)}^2=\\sum_{i>n}\\lambda_i,$$\n",
    "\n",
    "which can be very helpful for determining a good truncation index $n$ apriori. Typically, $\\sum_{i=1}^{N_h}\\lambda_i=\\mathbb{E}\\|Z\\|_{L^{2}(\\Omega)}^2$ is called *energy of the field*, whereas $\\sum_{i>n}\\lambda_i$ is referred to as *residual energy* and corresponds to the variability in $Z$ that is not captured by $Z_n$."
   ]
  },
  {
   "cell_type": "markdown",
   "metadata": {
    "id": "B5R4H3H2rNPl"
   },
   "source": [
    "<mark>**Exercise 4**</mark></br>\n",
    "\n",
    "Consider the previous 2D example with $\\Omega=(0,1)^2$ and $\\kappa(r)=e^{-10r^2}$. Choose a truncation index $n$ by looking at the decay of the eigenvalues $\\lambda_i$.\n",
    "\n",
    "- What is the residual energy? What proportion of the field energy would be captured by an $n$ truncation of the KKL expansion?\n",
    "\n",
    "- Leveraging the function $\\textsf{KKLcombine}$, sample 1000 random realizations of both the field $Z$ and the truncated field $Z_n$. Make sure that the two samples are related (up to truncation, each simulation should correspond to the same $\\xi_i$'s). Compare them visually, then estimate the MSE $\\mathbb{E}\\|Z-Z_n\\|_{L^{2}(\\Omega)}^2$ and verify the energy formula."
   ]
  },
  {
   "cell_type": "code",
   "execution_count": null,
   "metadata": {
    "colab": {
     "base_uri": "https://localhost:8080/",
     "height": 314
    },
    "id": "YQdG_rTCaAdc",
    "outputId": "c48d2437-37e5-4e7b-b839-d3a22608d3e1"
   },
   "outputs": [],
   "source": [
    "ticks = np.logspace(0, np.log10(len(lambdas)), 6).astype(\"int\")\n",
    "\n",
    "plt.figure(figsize = (5, 3))\n",
    "plt.semilogx(np.arange(len(lambdas))+1, lambdas)\n",
    "ntrunk = 15\n",
    "plt.semilogx(np.arange(ntrunk)+1, lambdas[:ntrunk])\n",
    "plt.xticks(ticks, ticks)\n",
    "plt.title(\"Eigenvalues decay\")\n",
    "plt.show()"
   ]
  },
  {
   "cell_type": "code",
   "execution_count": null,
   "metadata": {
    "colab": {
     "base_uri": "https://localhost:8080/"
    },
    "id": "rFhIzMxubmeE",
    "outputId": "774760c7-d875-468c-8c4d-64607e82ec7a"
   },
   "outputs": [],
   "source": [
    "# Residual energy and captured proportion\n",
    "# TO DO...\n",
    "# TO DO...\n",
    "# TO DO..."
   ]
  },
  {
   "cell_type": "code",
   "execution_count": null,
   "metadata": {
    "id": "aQQsr7iHcNU1"
   },
   "outputs": [],
   "source": [
    "# Sampling Z and Zn\n",
    "# TO DO...\n",
    "# TO DO...\n",
    "# TO DO..."
   ]
  },
  {
   "cell_type": "code",
   "execution_count": null,
   "metadata": {
    "colab": {
     "base_uri": "https://localhost:8080/"
    },
    "id": "Jm9JM9uXdYRq",
    "outputId": "bf226825-5c25-4a4d-cfe7-80a8f77347e4"
   },
   "outputs": [],
   "source": [
    "# Compute average of the squared L2-norm of (Z-Zn) and compare with residual energy\n",
    "# TO DO...\n",
    "# TO DO...\n",
    "# TO DO..."
   ]
  },
  {
   "cell_type": "code",
   "execution_count": null,
   "metadata": {
    "colab": {
     "base_uri": "https://localhost:8080/",
     "height": 957
    },
    "id": "_eVb4xZGcoV_",
    "outputId": "a90fff34-88f0-447b-df38-4159dbdc55b7"
   },
   "outputs": [],
   "source": [
    "for i in range(4):\n",
    "  plt.figure(figsize = (6, 2.5))\n",
    "  plt.subplot(1,2,1)\n",
    "  vmin, vmax = Z[:, i].min(), Z[:, i].max()\n",
    "  vmin, vmax = seg(vmin, vmax, -0.05), seg(vmin, vmax, 1.05)\n",
    "  fe.plot(Z[:, i], Vh, cmap='jet', levels = 50, vmin = vmin, vmax = vmax, colorbar = True, shrink = 0.7)\n",
    "  plt.title(\"Sample #%d (true)\" % (i+1))\n",
    "  plt.subplot(1,2,2)\n",
    "  fe.plot(Zn[:, i], Vh, cmap='jet', levels = 50, vmin = vmin, vmax = vmax, colorbar = True, shrink = 0.7)\n",
    "  plt.title(\"Sample #%d (truncated)\" % (i+1))\n",
    "  plt.tight_layout()"
   ]
  }
 ],
 "metadata": {
  "colab": {
   "provenance": []
  },
  "kernelspec": {
   "display_name": "computational-statistics-py3.12 (3.12.3)",
   "language": "python",
   "name": "python3"
  },
  "language_info": {
   "codemirror_mode": {
    "name": "ipython",
    "version": 3
   },
   "file_extension": ".py",
   "mimetype": "text/x-python",
   "name": "python",
   "nbconvert_exporter": "python",
   "pygments_lexer": "ipython3",
   "version": "3.12.3"
  }
 },
 "nbformat": 4,
 "nbformat_minor": 4
}
