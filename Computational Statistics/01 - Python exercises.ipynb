{
 "cells": [
  {
   "cell_type": "markdown",
   "metadata": {
    "id": "N9aRQD7nQJ3t"
   },
   "source": [
    "# **Practicing with Python**"
   ]
  },
  {
   "cell_type": "markdown",
   "metadata": {
    "id": "I_Rb67LqTk-G"
   },
   "source": [
    "<mark>**Exercise 1**</mark></br>\n",
    "Draw the graph of the function $y=\\sin(x^2)$ for $x\\in[0,2\\pi]$."
   ]
  },
  {
   "cell_type": "code",
   "execution_count": null,
   "metadata": {
    "colab": {
     "base_uri": "https://localhost:8080/"
    },
    "id": "js4CSbqcTwTt",
    "outputId": "f018c10f-1a77-4c57-8676-5079830eedfc"
   },
   "outputs": [],
   "source": [
    "\n",
    "\n",
    "\n",
    "\n",
    "\n"
   ]
  },
  {
   "cell_type": "markdown",
   "metadata": {
    "id": "6RoXe4LWs7fM"
   },
   "source": [
    "<mark>**Exercise 2**</mark></br>\n",
    "Write a function called $\\textsf{num2p}$ that, given a numerical value $x$, returns a string with its percentage representation. That is:\n",
    "\n",
    "    num2p(0.57) --> '57.00%'\n",
    "    num2p(0.011) --> '1.10%'"
   ]
  },
  {
   "cell_type": "code",
   "execution_count": null,
   "metadata": {
    "colab": {
     "base_uri": "https://localhost:8080/"
    },
    "id": "Ty7fpCguutJZ",
    "outputId": "07e41582-f044-4e05-e5dc-391ff995853a"
   },
   "outputs": [],
   "source": [
    "\n",
    "\n",
    "\n",
    "\n",
    "\n"
   ]
  },
  {
   "cell_type": "markdown",
   "metadata": {
    "id": "U8mwQsjYUDcu"
   },
   "source": [
    "<mark>**Exercise 3**</mark></br>\n",
    "Write a function called $\\textsf{Jacobian}$ that, given two values $x$ and $y$, returns the matrix\n",
    "\n",
    "$$J = \\left[\\begin{array}{cc}\\sin(y)e^x & \\cos(y)e^x \\\\ 2x-1 & 0\\end{array}\\right].$$"
   ]
  },
  {
   "cell_type": "code",
   "execution_count": null,
   "metadata": {
    "id": "yQ6FKwdfVIxF"
   },
   "outputs": [],
   "source": [
    "\n",
    "\n",
    "\n",
    "\n",
    "\n"
   ]
  },
  {
   "cell_type": "markdown",
   "metadata": {
    "id": "kU_IjSJH7rKL"
   },
   "source": [
    "<mark>**Exercise 4**</mark></br>\n",
    "Define a function called $\\textsf{randomStep}$ that, given a value $x$, returns $x+\\delta$, with $\\delta$ being a random value between -1 and 1. Try then callling \"randomStep(0)\" several times in order verify that the output changes from time to time.\n",
    "\n",
    "*Hint: exploit the function numpy.random.rand, which generates a random value in [0,1].*"
   ]
  },
  {
   "cell_type": "code",
   "execution_count": null,
   "metadata": {
    "colab": {
     "base_uri": "https://localhost:8080/"
    },
    "id": "QV46UPYMHcnl",
    "outputId": "b32992ed-3c34-4169-a5e0-eb97406a06e7"
   },
   "outputs": [],
   "source": [
    "\n",
    "\n",
    "\n",
    "\n",
    "\n"
   ]
  },
  {
   "cell_type": "markdown",
   "metadata": {
    "id": "kmiHRA33HqpV"
   },
   "source": [
    "<mark>**Exercise 5**</mark></br>\n",
    "Use the function at Ex. 4 to construct a *random walk*, that is: starting from a given $x_{0}\\in\\mathbb{R}$, define\n",
    "\n",
    "<p align=\"center\">\n",
    "$x_{1}=\\textsf{randomStep}(x_{0}),$\n",
    "</p>\n",
    "\n",
    "then $x_{2}=\\textsf{randomStep}(x_{1})$ and so on. In general, one can prove that, at some point $|x_{n}|\\ge10$ for some $n$. Given the stochasticity of the system, however, this event can happen immediately or after some time.\n",
    " </br>\n",
    " </br>\n",
    " Write a function called $\\textsf{waitingTime}$ that, given $x_{0}$, returns the first $n$ for which $|x_{n}|\\ge10.$ Verify that, even when starting from a fixed $x_{0}$, e.g. $x_0=0$, the value of such $n$ is still random."
   ]
  },
  {
   "cell_type": "code",
   "execution_count": null,
   "metadata": {
    "colab": {
     "base_uri": "https://localhost:8080/"
    },
    "id": "WJ12LvRja0L6",
    "outputId": "4f9d995d-79d4-4790-e47e-5cc29486d16e"
   },
   "outputs": [],
   "source": [
    "\n",
    "\n",
    "\n",
    "\n",
    "\n"
   ]
  },
  {
   "cell_type": "markdown",
   "metadata": {
    "id": "muR_aO41QYXs"
   },
   "source": [
    "<mark>**Exercise 6**</mark></br>\n",
    "Crate a function called $\\textsf{find}$ that, given a vector $\\mathbf{v}$ (1D numpy.array) and a value $x$, returns the first index $i$ for which the $i$th entry of $\\mathbf{v}$ equals $x$. If $x$ does not appear among the elements in $\\mathbf{v}$, the function should raise an error. Namely,\n",
    "\n",
    "    v = np.array([1,2,0,4,-1,0,8])\n",
    "    find(v, 0) ---> 2\n",
    "   \n",
    "    v = np.array([3,-2,5,4])\n",
    "    find(v, 0) ---> ERROR: the vector does not contain the required value.\n",
    "\n",
    "*Hint 1: carefull with machine precision! To make things \"more precise\", instead of using \"==\" try using the function numpy.isclose (with default values, or using a tollerance of your choice).*\n",
    "\n",
    "*Hint 2: to raise a Python error, rather than simply printing something, you can use the syntax*\n",
    "\n",
    "    raise RuntimeError('ERROR: the vector does not contain the required value.')"
   ]
  },
  {
   "cell_type": "code",
   "execution_count": null,
   "metadata": {
    "colab": {
     "base_uri": "https://localhost:8080/"
    },
    "id": "NjMlholsR1Yx",
    "outputId": "c0773cb3-3737-45c4-f434-3ca144d0003e"
   },
   "outputs": [],
   "source": [
    "\n",
    "\n",
    "\n",
    "\n",
    "\n"
   ]
  },
  {
   "cell_type": "markdown",
   "metadata": {
    "id": "1fVElpfibYAJ"
   },
   "source": [
    "<mark>**Exercise 7**</mark></br>\n",
    "Draw the unit circle."
   ]
  },
  {
   "cell_type": "code",
   "execution_count": null,
   "metadata": {
    "colab": {
     "base_uri": "https://localhost:8080/"
    },
    "id": "3QPes4atSj4f",
    "outputId": "8506bff1-acdf-470a-fac7-9cc034cad75c"
   },
   "outputs": [],
   "source": [
    "\n",
    "\n",
    "\n",
    "\n",
    "\n"
   ]
  },
  {
   "cell_type": "markdown",
   "metadata": {
    "id": "WF5Vyh2Xf7RQ"
   },
   "source": [
    "<mark>**Exercise 8**</mark></br>\n",
    "Write a function called $\\textsf{minij}$ that, given a matrix\n",
    "\n",
    "$$\\mathbf{A}=\\left[\\begin{array}{cccc}a_{1,1} & ... & a_{1,p}\\\\.. & ... & ...\\\\a_{d,1} & ... & a_{d,p}\\end{array}\\right]$$\n",
    "\n",
    "returns the indexes $i,j$ corresponding to the smallest value in $\\mathbf{A}$.\n",
    "\n",
    "*Hint: there are at least two approaches. The first one, is to run a double for loop, scanning all the elements in the matrix. The second one, which is more \"numpy-style\", is to exploit the functions **numpy.argmin** and **numpy.unravel_index** (to figure out how they work, use the help commend and/or mess around with them a little). In general, the second approach is far more efficient (furthermore, it can be implemented using a single line of code!).*"
   ]
  },
  {
   "cell_type": "code",
   "execution_count": null,
   "metadata": {
    "id": "NPptBh_9g9j_"
   },
   "outputs": [],
   "source": [
    "\n",
    "\n",
    "\n",
    "\n",
    "\n"
   ]
  },
  {
   "cell_type": "markdown",
   "metadata": {
    "id": "ami4NKHZcDsf"
   },
   "source": [
    "<mark>**Exercise 9**</mark></br>\n",
    "Write a function called $\\textsf{closestOnes}$ that, given two arrays $\\mathbf{x}=[x_{1},\\dots,x_{d}],\\;\\mathbf{y}=[y_{1},\\dots,y_{p}]$, returns the two entries $x_{i}$ ed $y_{j}$ which are closest, in the sense that $|x_i-y_j|$ is minimal. In other words:\n",
    "\n",
    "     closestOnes([5.0, 7.0, -2.3, 1.4], [4.1, 0.0]) --> 5.0, 4.1\n",
    "     closestOnes([0.0, 1.9, 3.0, 8.3], [9.0, 5.0, -1.7]) --> 8.3, 9.0\n",
    "\n",
    "*Hint: if x and y are 1D numpy.arrays, try computing x.reshape(-1,1)  - y.reshape(1,-1). What do you get? Can you exploit this, maybe in conjunction with the function defined in Ex. 8?*"
   ]
  },
  {
   "cell_type": "code",
   "execution_count": null,
   "metadata": {
    "id": "pIx-IQ9Fb0D2"
   },
   "outputs": [],
   "source": [
    "\n",
    "\n",
    "\n",
    "\n",
    "\n"
   ]
  },
  {
   "cell_type": "markdown",
   "metadata": {
    "id": "evUJ60ftv-b3"
   },
   "source": [
    "<mark>**Exercise 10**</mark></br>\n",
    "Write a function called $\\textsf{plotSquare}$ that, given $x,y,h$ and a string $c$, draws a square with vertices\n",
    "\n",
    "$$\\begin{array}{lll}A=(x,y), & & B = (x+h, y)\\\\\n",
    "C=(x+h,y+h),&& D = (x, y+h),\\end{array}$$\n",
    "\n",
    "coloring the inner region with the color $c$. For instance, the call:\n",
    "\n",
    "    plt.figure(figsize = (3,3))\n",
    "    plotSquare(0, 0, 1, c = 'red')\n",
    "    plt.show()\n",
    "\n",
    "should draw a red unit square, with bottom-left vertix lying at the origin.\n",
    "\n",
    "*Hint 1: use the **fill** function in matplotlib.pyplot.*\n",
    "\n",
    "*Hint 2: do not use plt.figure(), plt.title() and plt.show() while defining \"plotSquare\". If needed, these will be called by the user, as in the example above.*"
   ]
  },
  {
   "cell_type": "code",
   "execution_count": null,
   "metadata": {
    "colab": {
     "base_uri": "https://localhost:8080/"
    },
    "id": "EDp5AFBBxwf_",
    "outputId": "f0dff3f7-7c10-4b31-f8d2-5ed612a01e80"
   },
   "outputs": [],
   "source": [
    "\n",
    "\n",
    "\n",
    "\n",
    "\n"
   ]
  },
  {
   "cell_type": "markdown",
   "metadata": {
    "id": "uNOUz8boxxv_"
   },
   "source": [
    "<mark>**Exercise 11**</mark></br>\n",
    "Leveraging on the function defined in Ex. 10, draw an 8x8 chessboard.\n",
    "\n",
    "*Hint 1: use a double FOR loop!*\n",
    "\n",
    "*Hint 2: you can use the colors 'saddlebrown' and 'tan'. Finally, if you wish, you can hide the coordinate axis with plt.axis(\"off\").*"
   ]
  },
  {
   "cell_type": "code",
   "execution_count": null,
   "metadata": {
    "colab": {
     "base_uri": "https://localhost:8080/",
     "height": 345
    },
    "id": "mEtzD3B9hDo_",
    "outputId": "bffe3c3a-0272-43b8-ef17-449be868d386"
   },
   "outputs": [],
   "source": [
    "\n",
    "\n",
    "\n",
    "\n",
    "\n"
   ]
  },
  {
   "cell_type": "code",
   "execution_count": null,
   "metadata": {
    "id": "M8kG1I36Fkn7"
   },
   "outputs": [],
   "source": []
  }
 ],
 "metadata": {
  "colab": {
   "provenance": []
  },
  "kernelspec": {
   "display_name": "Python 3 (ipykernel)",
   "language": "python",
   "name": "python3"
  },
  "language_info": {
   "codemirror_mode": {
    "name": "ipython",
    "version": 3
   },
   "file_extension": ".py",
   "mimetype": "text/x-python",
   "name": "python",
   "nbconvert_exporter": "python",
   "pygments_lexer": "ipython3",
   "version": "3.13.3"
  }
 },
 "nbformat": 4,
 "nbformat_minor": 4
}
