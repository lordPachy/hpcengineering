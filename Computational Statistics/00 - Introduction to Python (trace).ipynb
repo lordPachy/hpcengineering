{
 "cells": [
  {
   "cell_type": "code",
   "execution_count": 13,
   "metadata": {},
   "outputs": [],
   "source": [
    "import numpy"
   ]
  },
  {
   "cell_type": "markdown",
   "metadata": {
    "id": "llsANXkdoywy"
   },
   "source": [
    "# **Lab 1 - Introduction to Python**\n",
    "\n",
    "Python is a *dynamic* and *interpreted* programming language. This means that variables of any type (numbers, characters, lists, etc.) can be created without the need to specify their type; additionally, the type of an object can *change* dynamically across the code.\n",
    "\n",
    "Like in other programming languages, a code written in Python is composed of a sequence of instructions. By convention, **each line of code is an instruction** (no semicolon needed!). \n",
    "</br>\n",
    "</br>\n",
    "Roughly speaking, there are two different environments where one can write (and then execute) Python instructions:\n",
    "\n",
    "1. Python **scripts** (files \".py\"). They are the standard working environment. By launching a script, all the instructions inside it are executed (in sequence). We will see examples of this later.\n",
    "\n",
    "2. Python **notebooks** (files \".ipynb\"). Useful for educational and illustrative purposes, notebooks allow one to create a working session during which the user can execute various instructions, usually grouped into *cells*. The order of execution is determined by the user.\n",
    "In particular, unlike scripts, notebooks allow the user to *interact* with the software. The session remains active until the user interrupts or restarts the runtime.\n",
    "\n",
    "What we are using now is a notebook. There are *text cells* (like this one) and *code cells* (like the one below). Code cells can be executed with a mouse click or by pressing \"shift+enter\"."
   ]
  },
  {
   "cell_type": "code",
   "execution_count": null,
   "metadata": {
    "colab": {
     "base_uri": "https://localhost:8080/"
    },
    "id": "IW12vkiSixlX",
    "outputId": "197d1cc9-8e0f-4d22-e4f8-1443ea635d97"
   },
   "outputs": [],
   "source": []
  },
  {
   "cell_type": "markdown",
   "metadata": {
    "id": "nRZn3JlPtq1D"
   },
   "source": [
    "Within the code, using the \"#\" symbol, we can also insert **comment lines**. They do not constitute instructions to be executed but are helpful for those reading the code."
   ]
  },
  {
   "cell_type": "code",
   "execution_count": null,
   "metadata": {
    "colab": {
     "base_uri": "https://localhost:8080/"
    },
    "id": "AB_0fBYn1ZrV",
    "outputId": "a451133c-f2c2-45f8-ecfb-f93120832952"
   },
   "outputs": [],
   "source": []
  },
  {
   "cell_type": "markdown",
   "metadata": {
    "id": "ApQhYj5zyAUT"
   },
   "source": [
    "# **Simple and Composite Variables, Functions**"
   ]
  },
  {
   "cell_type": "markdown",
   "metadata": {
    "id": "vnH_jg8aZGWH"
   },
   "source": [
    "## Numeric variables"
   ]
  },
  {
   "cell_type": "code",
   "execution_count": 14,
   "metadata": {
    "id": "CciE1yxwi42E"
   },
   "outputs": [],
   "source": [
    "# Declaring, operating and printing\n",
    "\n"
   ]
  },
  {
   "cell_type": "markdown",
   "metadata": {
    "id": "7az6N-AT2Gru"
   },
   "source": [
    "<mark>**ATTENTION!** (Floating point)</mark></br>\n",
    "We must not forget that all operations are carried out within a computer, which inevitably uses *finite arithmetic*. This means that:\n",
    "- each number can be represented up to a certain level of precision; beyond that level, distinct numbers can become indistinguishable.\n",
    "- every operation, no matter how simple it may seem, can generate small calculation errors, which can propagate within the code."
   ]
  },
  {
   "cell_type": "code",
   "execution_count": 15,
   "metadata": {
    "colab": {
     "base_uri": "https://localhost:8080/"
    },
    "id": "lMrPq18F2gIO",
    "outputId": "05cd74f6-7565-4df7-9712-c959210ef888"
   },
   "outputs": [
    {
     "data": {
      "text/plain": [
       "True"
      ]
     },
     "execution_count": 15,
     "metadata": {},
     "output_type": "execute_result"
    }
   ],
   "source": [
    "x = 1\n",
    "y = 1.0000000000000000000000000000000001\n",
    "\n",
    "x == y"
   ]
  },
  {
   "cell_type": "code",
   "execution_count": 16,
   "metadata": {
    "colab": {
     "base_uri": "https://localhost:8080/"
    },
    "id": "pgHoigQxwL4k",
    "outputId": "9da72c15-01e9-4a3b-a42f-ab6cf234735b"
   },
   "outputs": [
    {
     "data": {
      "text/plain": [
       "7.105427357601002e-15"
      ]
     },
     "execution_count": 16,
     "metadata": {},
     "output_type": "execute_result"
    }
   ],
   "source": [
    "y = 10.05\n",
    "(x+y)**2 - x**2 -y**2 -2*x*y # should return 0."
   ]
  },
  {
   "cell_type": "markdown",
   "metadata": {
    "id": "7q27fiqd06E3"
   },
   "source": [
    "## Strings\n",
    "\n",
    "In addition to numeric variables, another very useful object are **strings**, which are sequences of characters."
   ]
  },
  {
   "cell_type": "code",
   "execution_count": null,
   "metadata": {
    "colab": {
     "base_uri": "https://localhost:8080/"
    },
    "id": "nGs0NR8mjM82",
    "outputId": "77584c08-7589-47c0-c27f-e74c86f95d3c"
   },
   "outputs": [],
   "source": [
    "\n",
    "\n"
   ]
  },
  {
   "cell_type": "markdown",
   "metadata": {
    "id": "eU4TyMH4xNvC"
   },
   "source": [
    "By using the formatting operator **%** along with placeholders like **%d** (integers), **%f** (floats), **%e** (exponential notation), we can construct strings containing the values of numeric variables."
   ]
  },
  {
   "cell_type": "code",
   "execution_count": null,
   "metadata": {
    "colab": {
     "base_uri": "https://localhost:8080/"
    },
    "id": "dsm0_mYDlpiN",
    "outputId": "db4a10f5-29fb-4c97-faca-9a7562d0a2cf"
   },
   "outputs": [],
   "source": [
    "\n",
    "\n"
   ]
  },
  {
   "cell_type": "markdown",
   "metadata": {
    "id": "HCqkGcS5yOEK"
   },
   "source": [
    "## Lists and Tuples\n",
    "\n",
    "Other useful concepts are those of lists and tuples. Both are composite objects, meaning *they contain other objects*.\n",
    "In general, both lists and tuples can contain objects of different types.\n",
    "\n",
    "Let's start by looking at the case of **lists**."
   ]
  },
  {
   "cell_type": "code",
   "execution_count": 17,
   "metadata": {
    "id": "-9iCHvN7jUKB"
   },
   "outputs": [],
   "source": [
    "# Declare, access, length, assign, append, concatenate, multiply\n",
    "\n",
    "\n"
   ]
  },
  {
   "cell_type": "markdown",
   "metadata": {
    "id": "gLcNVOJ70g1s"
   },
   "source": [
    "**Tuples** are similar to lists, but they are *immutable*. Therefore, once created, they cannot be modified."
   ]
  },
  {
   "cell_type": "code",
   "execution_count": 18,
   "metadata": {
    "colab": {
     "base_uri": "https://localhost:8080/"
    },
    "id": "tVYQHN7mkk5k",
    "outputId": "bbaf4b88-9466-41ee-801f-c565faba86be"
   },
   "outputs": [],
   "source": [
    "# Declaring and using for assignment\n",
    "\n",
    "\n"
   ]
  },
  {
   "cell_type": "markdown",
   "metadata": {
    "id": "Q8wGKAiy2OCo"
   },
   "source": [
    "## Functions\n",
    "\n",
    "Another very useful concept is that of a **function**. In Python, a function is an object that produces outputs based on certain inputs.\n",
    "</br></br>\n",
    "To create a function, we use the **def** command followed by the list of required inputs (in parentheses) and the sequence of operations defining the function."
   ]
  },
  {
   "cell_type": "code",
   "execution_count": null,
   "metadata": {
    "id": "xEK4U1WMmz0X"
   },
   "outputs": [],
   "source": [
    "\n",
    "\n",
    "\n",
    "\n",
    "\n"
   ]
  },
  {
   "cell_type": "markdown",
   "metadata": {
    "id": "k4Bl78Ed4frM"
   },
   "source": [
    "Note: all instructions that are part of the *body* of the function must be written **below** the definition of the function itself and followed by appropriate **indentation**.\n",
    "\n",
    "A function can perform various calculations within its body: the only results that will be returned (and visible) are those preceded by the **return** command."
   ]
  },
  {
   "cell_type": "code",
   "execution_count": null,
   "metadata": {},
   "outputs": [],
   "source": [
    "\n",
    "\n",
    "\n"
   ]
  },
  {
   "cell_type": "markdown",
   "metadata": {
    "id": "_tCybvfQ5UOJ"
   },
   "source": [
    "**Note**: By leveraging the concept of *tuple*, we can build functions that return multiple outputs simultaneously."
   ]
  },
  {
   "cell_type": "markdown",
   "metadata": {
    "id": "2IEmICvmHYM-"
   },
   "source": [
    "Finally, when defining a function, we may also specify whether some inputs are *optional*, that is: the user can pass a value, but it is not mandatory. If not provided, a default value will be used. The syntax is as follows:"
   ]
  },
  {
   "cell_type": "code",
   "execution_count": null,
   "metadata": {
    "colab": {
     "base_uri": "https://localhost:8080/"
    },
    "id": "UXNAhBveIG0r",
    "outputId": "69155736-95d6-4847-9456-4540090b8244"
   },
   "outputs": [],
   "source": [
    "\n",
    "\n",
    "\n"
   ]
  },
  {
   "cell_type": "markdown",
   "metadata": {
    "id": "Gs02d_bdINeG"
   },
   "source": [
    "In the future, we will see that it is also possible to define functions with an unspecified number of inputs. But, for now, that's too early!"
   ]
  },
  {
   "cell_type": "markdown",
   "metadata": {
    "id": "4HG-o1se5iqN"
   },
   "source": [
    "<mark>**Exercise 1**</mark></br>\n",
    "Create a function called $\\textsf{padding}$ that, given a list L and an integer n, returns an \"augmented\" version of L with n additional zeros. That is, the function should operate as follows:\n",
    "\n",
    "    padding([3,4,'ciao'], 5) --> [3,4,'ciao',0,0,0,0,0]\n",
    "    padding(['u',1], 3) --> ['u',1,0,0,0]\n",
    "\n",
    "Hint: Avoid using the *append* method. Instead, leverage the + and * operators.\n"
   ]
  },
  {
   "cell_type": "code",
   "execution_count": 19,
   "metadata": {
    "id": "DFatd37h6nEr"
   },
   "outputs": [],
   "source": [
    "# Exercise 1\n",
    "\n",
    "\n",
    "\n",
    "\n"
   ]
  },
  {
   "cell_type": "markdown",
   "metadata": {
    "id": "QO5mIRpR1FIJ"
   },
   "source": [
    "# **Flow control**"
   ]
  },
  {
   "cell_type": "markdown",
   "metadata": {
    "id": "u1918CrzZQRm"
   },
   "source": [
    "## *For* loop\n",
    "The for loop is a way to ensure that certain instructions are repeated for a predetermined number of times. Each iteration is driven by a *counter*, which varies within a predefined range of values.\n",
    "\n",
    "As with functions, the entire body of the for loop must be written **below** the loop declaration together with a proper **indentation**."
   ]
  },
  {
   "cell_type": "code",
   "execution_count": null,
   "metadata": {
    "colab": {
     "base_uri": "https://localhost:8080/"
    },
    "id": "zw_hJoc9k8GJ",
    "outputId": "78527c2c-2d24-4126-db84-7f0cd93d7d99"
   },
   "outputs": [],
   "source": [
    "\n",
    "\n",
    "\n",
    "\n"
   ]
  },
  {
   "cell_type": "markdown",
   "metadata": {
    "id": "5ScuasMyIiwL"
   },
   "source": [
    "In general, the counter of a for loop can vary within any *iterable* object: a list, a tuple, etc.\n",
    "\n",
    "In particular, we can construct standard iterators using the **range** command."
   ]
  },
  {
   "cell_type": "code",
   "execution_count": null,
   "metadata": {
    "colab": {
     "base_uri": "https://localhost:8080/"
    },
    "id": "NrZOA26jI4GK",
    "outputId": "8a05878a-7306-481d-9414-61bd9531336e"
   },
   "outputs": [],
   "source": [
    "\n",
    "\n",
    "\n",
    "\n"
   ]
  },
  {
   "cell_type": "markdown",
   "metadata": {
    "id": "R09lkn_q7umr"
   },
   "source": [
    "## *While* loop\n",
    "Sometimes, it is useful to **repeat a set of instructions as long as a certain condition is met**. In particular, we want to repeat a certain block of instructions without knowing the total number of repetitions in advance (otherwise, we could use a for loop!).\n",
    "\n",
    "We can achieve this with the *while* loop: see the example below."
   ]
  },
  {
   "cell_type": "code",
   "execution_count": null,
   "metadata": {
    "colab": {
     "base_uri": "https://localhost:8080/"
    },
    "id": "PvjfPQCemHub",
    "outputId": "c6d3e955-a247-4a32-bef1-e463a2634948"
   },
   "outputs": [],
   "source": [
    "\n",
    "\n",
    "\n",
    "\n"
   ]
  },
  {
   "cell_type": "markdown",
   "metadata": {
    "id": "haKj5WVH9G2k"
   },
   "source": [
    "## Conditional statements: *if* and *else* commands\n",
    "In some cases, we may want the code to execute certain instructions only under certain circumstances. In particular, we want to do a given thing if a certain condition is met (if); otherwise (else), we would like an operation to occurr.\n",
    "\n",
    "Again, it is important to **pay attention to the indentation of the code**. The latter, in fact, determines which instructions fall under a branch and which do not."
   ]
  },
  {
   "cell_type": "code",
   "execution_count": null,
   "metadata": {
    "colab": {
     "base_uri": "https://localhost:8080/"
    },
    "id": "SIaCuHD1mTcF",
    "outputId": "7db69678-5eee-458b-c21f-09f732d52f2b"
   },
   "outputs": [],
   "source": [
    "\n",
    "\n",
    "\n"
   ]
  },
  {
   "cell_type": "markdown",
   "metadata": {
    "id": "JdoxY59cCgB2"
   },
   "source": [
    "To handle multiple conditions simultaneously, you can use the **and** and **or** keywords."
   ]
  },
  {
   "cell_type": "code",
   "execution_count": null,
   "metadata": {
    "colab": {
     "base_uri": "https://localhost:8080/"
    },
    "id": "F61vp0hKC3sR",
    "outputId": "412e6610-c4c0-42dc-e466-b4dcf6da3255"
   },
   "outputs": [],
   "source": [
    "\n",
    "\n",
    "\n"
   ]
  },
  {
   "cell_type": "markdown",
   "metadata": {
    "id": "qLbnC1s9-CwU"
   },
   "source": [
    "<mark>**Exercise 2**</mark></br>\n",
    "Write a function that, given a numerical value $x$, returns $x$ if $x\\ge0$, and 0 otherwise.\n",
    "\n",
    "*Curiosity*: in Machine Learning, this function is so famous that people have come up with a specific name for it. </br>It is commonly known as Rectified Linear Unit (ReLU).\n"
   ]
  },
  {
   "cell_type": "code",
   "execution_count": 20,
   "metadata": {
    "id": "mUQkaYRdnM4C"
   },
   "outputs": [],
   "source": [
    "# Exercise 2\n",
    "\n",
    "\n",
    "\n"
   ]
  },
  {
   "cell_type": "markdown",
   "metadata": {
    "id": "plsnVyAGIZ5N"
   },
   "source": [
    "<mark>**Exercise 3**</mark></br>\n",
    "Write a function that, given a list of numbers, returns their arithmetic mean.\n",
    "\n"
   ]
  },
  {
   "cell_type": "code",
   "execution_count": 21,
   "metadata": {
    "id": "HuF0H4bYJi7k"
   },
   "outputs": [],
   "source": [
    "# Exercise 3\n",
    "\n",
    "\n",
    "\n"
   ]
  },
  {
   "cell_type": "markdown",
   "metadata": {
    "id": "oM6-nVBNUGRy"
   },
   "source": [
    "<mark>**Exercise 4**</mark></br>\n",
    "Try to determine the smallest value $\\epsilon>0$ such that, in finite arithmetic, $1+\\epsilon$ is different from $1$.\n",
    "\n",
    "Hint: use a while loop!"
   ]
  },
  {
   "cell_type": "code",
   "execution_count": 22,
   "metadata": {
    "colab": {
     "base_uri": "https://localhost:8080/"
    },
    "id": "curwxj_eUe2d",
    "outputId": "da8257d2-2867-4b94-9373-53ef920cab17"
   },
   "outputs": [],
   "source": [
    "# Exercise 4\n",
    "\n",
    "\n",
    "\n"
   ]
  },
  {
   "cell_type": "markdown",
   "metadata": {
    "id": "0SDuZrhSDj7k"
   },
   "source": [
    "# **Python Packages**: numpy and matplotlib\n",
    "Fortunately, there are already many Python functions available online that we can directly **import** and **use**. Generally, these functions are collected within *packages*, which can be imported using the **import** command.\n",
    "</br></br>\n",
    "Today, we will take a quick look at 2 packages:\n",
    "\n",
    "- **numpy**, for handling arrays (vectors, matrices, etc.);\n",
    "- **matplotlib**, for visualizing plots."
   ]
  },
  {
   "cell_type": "markdown",
   "metadata": {
    "id": "euoedZCfEtBA"
   },
   "source": [
    "## Numerical Analysis in **numpy**\n",
    "Numpy is a package that allows you to build and work with numerical arrays (and more).\n",
    "</br></br>\n",
    "In general, arrays are similar to lists, but having much more structure, they support many more operations."
   ]
  },
  {
   "cell_type": "code",
   "execution_count": 23,
   "metadata": {
    "colab": {
     "base_uri": "https://localhost:8080/"
    },
    "id": "ljzNTdnKD12Y",
    "outputId": "5408d2b4-3f33-4c86-e9ab-223536dec2ae"
   },
   "outputs": [],
   "source": [
    "# Importing and using basic functions from the package\n",
    "\n",
    "\n"
   ]
  },
  {
   "cell_type": "code",
   "execution_count": 24,
   "metadata": {
    "colab": {
     "base_uri": "https://localhost:8080/"
    },
    "id": "0rTKfPeuGNlF",
    "outputId": "211c3bd2-8b93-4ac7-a345-11ddcf004144"
   },
   "outputs": [],
   "source": [
    "# Numpy arrays (pt. 1)\n",
    "\n",
    "\n"
   ]
  },
  {
   "cell_type": "markdown",
   "metadata": {
    "id": "PvcQy299G9NO"
   },
   "source": [
    "**Note**: If we want to learn more about a particular function (how it works, what inputs it accepts, what it returns, etc.),</br> we can use the *help* command."
   ]
  },
  {
   "cell_type": "code",
   "execution_count": 25,
   "metadata": {
    "colab": {
     "base_uri": "https://localhost:8080/"
    },
    "id": "HuAe8uR7G5Qg",
    "outputId": "96ce7890-1dc0-4571-ea5a-afb26ed623c3"
   },
   "outputs": [
    {
     "name": "stdout",
     "output_type": "stream",
     "text": [
      "Help on _ArrayFunctionDispatcher in module numpy:\n",
      "\n",
      "linspace(start, stop, num=50, endpoint=True, retstep=False, dtype=None, axis=0, *, device=None)\n",
      "    Return evenly spaced numbers over a specified interval.\n",
      "\n",
      "    Returns `num` evenly spaced samples, calculated over the\n",
      "    interval [`start`, `stop`].\n",
      "\n",
      "    The endpoint of the interval can optionally be excluded.\n",
      "\n",
      "    .. versionchanged:: 1.20.0\n",
      "        Values are rounded towards ``-inf`` instead of ``0`` when an\n",
      "        integer ``dtype`` is specified. The old behavior can\n",
      "        still be obtained with ``np.linspace(start, stop, num).astype(int)``\n",
      "\n",
      "    Parameters\n",
      "    ----------\n",
      "    start : array_like\n",
      "        The starting value of the sequence.\n",
      "    stop : array_like\n",
      "        The end value of the sequence, unless `endpoint` is set to False.\n",
      "        In that case, the sequence consists of all but the last of ``num + 1``\n",
      "        evenly spaced samples, so that `stop` is excluded.  Note that the step\n",
      "        size changes when `endpoint` is False.\n",
      "    num : int, optional\n",
      "        Number of samples to generate. Default is 50. Must be non-negative.\n",
      "    endpoint : bool, optional\n",
      "        If True, `stop` is the last sample. Otherwise, it is not included.\n",
      "        Default is True.\n",
      "    retstep : bool, optional\n",
      "        If True, return (`samples`, `step`), where `step` is the spacing\n",
      "        between samples.\n",
      "    dtype : dtype, optional\n",
      "        The type of the output array.  If `dtype` is not given, the data type\n",
      "        is inferred from `start` and `stop`. The inferred dtype will never be\n",
      "        an integer; `float` is chosen even if the arguments would produce an\n",
      "        array of integers.\n",
      "    axis : int, optional\n",
      "        The axis in the result to store the samples.  Relevant only if start\n",
      "        or stop are array-like.  By default (0), the samples will be along a\n",
      "        new axis inserted at the beginning. Use -1 to get an axis at the end.\n",
      "    device : str, optional\n",
      "        The device on which to place the created array. Default: None.\n",
      "        For Array-API interoperability only, so must be ``\"cpu\"`` if passed.\n",
      "\n",
      "        .. versionadded:: 2.0.0\n",
      "\n",
      "    Returns\n",
      "    -------\n",
      "    samples : ndarray\n",
      "        There are `num` equally spaced samples in the closed interval\n",
      "        ``[start, stop]`` or the half-open interval ``[start, stop)``\n",
      "        (depending on whether `endpoint` is True or False).\n",
      "    step : float, optional\n",
      "        Only returned if `retstep` is True\n",
      "\n",
      "        Size of spacing between samples.\n",
      "\n",
      "\n",
      "    See Also\n",
      "    --------\n",
      "    arange : Similar to `linspace`, but uses a step size (instead of the\n",
      "             number of samples).\n",
      "    geomspace : Similar to `linspace`, but with numbers spaced evenly on a log\n",
      "                scale (a geometric progression).\n",
      "    logspace : Similar to `geomspace`, but with the end points specified as\n",
      "               logarithms.\n",
      "    :ref:`how-to-partition`\n",
      "\n",
      "    Examples\n",
      "    --------\n",
      "    >>> import numpy as np\n",
      "    >>> np.linspace(2.0, 3.0, num=5)\n",
      "    array([2.  , 2.25, 2.5 , 2.75, 3.  ])\n",
      "    >>> np.linspace(2.0, 3.0, num=5, endpoint=False)\n",
      "    array([2. ,  2.2,  2.4,  2.6,  2.8])\n",
      "    >>> np.linspace(2.0, 3.0, num=5, retstep=True)\n",
      "    (array([2.  ,  2.25,  2.5 ,  2.75,  3.  ]), 0.25)\n",
      "\n",
      "    Graphical illustration:\n",
      "\n",
      "    >>> import matplotlib.pyplot as plt\n",
      "    >>> N = 8\n",
      "    >>> y = np.zeros(N)\n",
      "    >>> x1 = np.linspace(0, 10, N, endpoint=True)\n",
      "    >>> x2 = np.linspace(0, 10, N, endpoint=False)\n",
      "    >>> plt.plot(x1, y, 'o')\n",
      "    [<matplotlib.lines.Line2D object at 0x...>]\n",
      "    >>> plt.plot(x2, y + 0.5, 'o')\n",
      "    [<matplotlib.lines.Line2D object at 0x...>]\n",
      "    >>> plt.ylim([-0.5, 1])\n",
      "    (-0.5, 1)\n",
      "    >>> plt.show()\n",
      "\n"
     ]
    }
   ],
   "source": [
    "help(numpy.linspace)"
   ]
  },
  {
   "cell_type": "markdown",
   "metadata": {
    "id": "1Sy4LwgoKAgb"
   },
   "source": [
    "The main differences between arrays, lists, and tuples are:\n",
    "- Arrays have a fixed size (lists do not).\n",
    "- Values inside an array can be modified (not true for tuples).\n",
    "- Arrays can become specialized if their elements are all of the same type.\n",
    "\n",
    "Regarding the last point: we will be interested in **numeric arrays**, which have many useful properties. Let's explore some of them."
   ]
  },
  {
   "cell_type": "code",
   "execution_count": 26,
   "metadata": {
    "id": "9RwTadyJJ_ok"
   },
   "outputs": [],
   "source": [
    "x = numpy.array([1, 4, 5, -2, 1, 0]) # <--- creating an array from a list using the 'array' method\n",
    "y = numpy.linspace(-1, 1, 6)\n",
    "z = numpy.array([1, -2])"
   ]
  },
  {
   "cell_type": "code",
   "execution_count": 27,
   "metadata": {
    "colab": {
     "base_uri": "https://localhost:8080/"
    },
    "id": "UyEZUqGKHQ4O",
    "outputId": "9691f7c5-1a81-4433-d4c2-b082c0c54ae5"
   },
   "outputs": [
    {
     "name": "stdout",
     "output_type": "stream",
     "text": [
      "[-1.  -0.6 -0.2  0.2  0.6  1. ]\n",
      "[ 0.   3.4  4.8 -1.8  1.6  1. ]\n",
      "[-1.  -2.4 -1.  -0.4  0.6  0. ]\n"
     ]
    }
   ],
   "source": [
    "print(y)\n",
    "print(x+y)\n",
    "print(x*y)"
   ]
  },
  {
   "cell_type": "code",
   "execution_count": 28,
   "metadata": {
    "colab": {
     "base_uri": "https://localhost:8080/"
    },
    "id": "LNnRkg0ZLdP-",
    "outputId": "392c3aa0-da5e-4c28-d892-77c7baef4cac"
   },
   "outputs": [
    {
     "name": "stdout",
     "output_type": "stream",
     "text": [
      "[ 1 -2]\n",
      "[ 2. -4.]\n",
      "[6. 3.]\n",
      "[1. 4.]\n"
     ]
    }
   ],
   "source": [
    "print(z)\n",
    "print(2.0*z)\n",
    "print(z + 5.0)\n",
    "print(z**2.0)"
   ]
  },
  {
   "cell_type": "markdown",
   "metadata": {
    "id": "2lQDz4tkLxEI"
   },
   "source": [
    "In general, the convention is to perform operations **component-wise**. This can be done as long as the arrays involved have compatible dimensions."
   ]
  },
  {
   "cell_type": "code",
   "execution_count": 30,
   "metadata": {
    "colab": {
     "base_uri": "https://localhost:8080/",
     "height": 146
    },
    "id": "WutYicYFLk6I",
    "outputId": "4adab1b1-656e-44f0-8534-ae12bf34a6bb"
   },
   "outputs": [],
   "source": [
    "#x+z"
   ]
  },
  {
   "cell_type": "markdown",
   "metadata": {
    "id": "2ZdK8cn8MFtt"
   },
   "source": [
    "The size of an array can be checked using the *shape* attribute."
   ]
  },
  {
   "cell_type": "code",
   "execution_count": 31,
   "metadata": {
    "id": "LyMl3GA2MC5I"
   },
   "outputs": [
    {
     "name": "stdout",
     "output_type": "stream",
     "text": [
      "(6,)\n",
      "(2,)\n"
     ]
    }
   ],
   "source": [
    "print(x.shape)\n",
    "print(z.shape)"
   ]
  },
  {
   "cell_type": "markdown",
   "metadata": {
    "id": "ws47w1UPMQ_1"
   },
   "source": [
    "In general, the *shape* of an array is a tuple, as an array can have multiple dimensions."
   ]
  },
  {
   "cell_type": "code",
   "execution_count": 32,
   "metadata": {
    "id": "sxLwtIJJMN2E"
   },
   "outputs": [],
   "source": [
    "x = numpy.array([1, 2, -4]) # <-- 1D array (vector)\n",
    "A = numpy.array([[5, 6], [1, 0], [8, 3]]) # <-- 2D array 2D (matrix)\n",
    "T = numpy.array([[[1,2,3,5], [7,8,9,10]], [[0,0,0,0], [3,1,-1,1]]]) # <-- 3D array (tensor)"
   ]
  },
  {
   "cell_type": "code",
   "execution_count": 33,
   "metadata": {
    "id": "rmGYmfJXM0BN"
   },
   "outputs": [
    {
     "name": "stdout",
     "output_type": "stream",
     "text": [
      "x = \n",
      "[ 1  2 -4]\n",
      "\n",
      "A =\n",
      "[[5 6]\n",
      " [1 0]\n",
      " [8 3]]\n",
      "\n",
      "T =\n",
      "[[[ 1  2  3  5]\n",
      "  [ 7  8  9 10]]\n",
      "\n",
      " [[ 0  0  0  0]\n",
      "  [ 3  1 -1  1]]]\n"
     ]
    }
   ],
   "source": [
    "print(\"x = \")\n",
    "print(x)\n",
    "print(\"\\nA =\")\n",
    "print(A)\n",
    "print(\"\\nT =\")\n",
    "print(T)"
   ]
  },
  {
   "cell_type": "code",
   "execution_count": 34,
   "metadata": {
    "id": "9phb5-WuM14G"
   },
   "outputs": [
    {
     "name": "stdout",
     "output_type": "stream",
     "text": [
      "shape of x = \n",
      "(3,)\n",
      "\n",
      "shape of A = \n",
      "(3, 2)\n",
      "\n",
      "shape of T = \n",
      "(2, 2, 4)\n"
     ]
    }
   ],
   "source": [
    "print(\"shape of x = \")\n",
    "print(x.shape)\n",
    "print(\"\\nshape of A = \")\n",
    "print(A.shape)\n",
    "print(\"\\nshape of T = \")\n",
    "print(T.shape)"
   ]
  },
  {
   "cell_type": "markdown",
   "metadata": {
    "id": "zvi8E8LANTP5"
   },
   "source": [
    "We will mainly be interested in 1D arrays (vectors) and 2D arrays (matrices). With these, we can perform most of the standard\n",
    "operations of linear algebra.</br>Let's see some of them."
   ]
  },
  {
   "cell_type": "code",
   "execution_count": 35,
   "metadata": {
    "id": "oTn7QB9vNFDD"
   },
   "outputs": [
    {
     "data": {
      "text/plain": [
       "array([[5, 6],\n",
       "       [1, 0],\n",
       "       [8, 3]])"
      ]
     },
     "execution_count": 35,
     "metadata": {},
     "output_type": "execute_result"
    }
   ],
   "source": [
    "A"
   ]
  },
  {
   "cell_type": "code",
   "execution_count": 36,
   "metadata": {
    "id": "hcriWAgLNq0i"
   },
   "outputs": [
    {
     "data": {
      "text/plain": [
       "array([[5, 1, 8],\n",
       "       [6, 0, 3]])"
      ]
     },
     "execution_count": 36,
     "metadata": {},
     "output_type": "execute_result"
    }
   ],
   "source": [
    "A.T # <-- transpose"
   ]
  },
  {
   "cell_type": "code",
   "execution_count": 37,
   "metadata": {
    "id": "wOu0TzWaNuWC"
   },
   "outputs": [
    {
     "data": {
      "text/plain": [
       "array([[ 1,  5],\n",
       "       [-1,  8],\n",
       "       [ 0,  0]])"
      ]
     },
     "execution_count": 37,
     "metadata": {},
     "output_type": "execute_result"
    }
   ],
   "source": [
    "B = numpy.array([[1,  5],     # <-- let's use spacing to our advantage to simplify code comprehension!\n",
    "                 [-1, 8],\n",
    "                 [0,  0]])\n",
    "\n",
    "B"
   ]
  },
  {
   "cell_type": "code",
   "execution_count": 38,
   "metadata": {
    "id": "7YrH0KEWN7q4"
   },
   "outputs": [
    {
     "data": {
      "text/plain": [
       "array([[ 6, 11],\n",
       "       [ 0,  8],\n",
       "       [ 8,  3]])"
      ]
     },
     "execution_count": 38,
     "metadata": {},
     "output_type": "execute_result"
    }
   ],
   "source": [
    "A+B"
   ]
  },
  {
   "cell_type": "code",
   "execution_count": 39,
   "metadata": {
    "id": "KE-U92-rN_3Y"
   },
   "outputs": [],
   "source": [
    "# Componentwise multiplication, vs Matrix multiplication\n",
    "\n",
    "\n",
    "\n"
   ]
  },
  {
   "cell_type": "markdown",
   "metadata": {
    "id": "ejmujcM8Opcw"
   },
   "source": [
    "During the labs, we will explore many numpy functions. For today, we shall start by learning just a couple of them:"
   ]
  },
  {
   "cell_type": "code",
   "execution_count": 40,
   "metadata": {
    "id": "TJAtC34_OiJ0"
   },
   "outputs": [
    {
     "data": {
      "text/plain": [
       "array([[0., 0., 0.],\n",
       "       [0., 0., 0.]])"
      ]
     },
     "execution_count": 40,
     "metadata": {},
     "output_type": "execute_result"
    }
   ],
   "source": [
    "numpy.zeros((2, 3)) # <-- array full of zeros"
   ]
  },
  {
   "cell_type": "code",
   "execution_count": 41,
   "metadata": {
    "id": "axMd7xPDRN_H"
   },
   "outputs": [
    {
     "data": {
      "text/plain": [
       "array([[1., 1., 1.],\n",
       "       [1., 1., 1.]])"
      ]
     },
     "execution_count": 41,
     "metadata": {},
     "output_type": "execute_result"
    }
   ],
   "source": [
    "numpy.ones((2, 3)) # <-- array full of ones"
   ]
  },
  {
   "cell_type": "code",
   "execution_count": 42,
   "metadata": {
    "id": "dG7eY08tTqKn"
   },
   "outputs": [
    {
     "data": {
      "text/plain": [
       "array([3, 4, 5, 6, 7])"
      ]
     },
     "execution_count": 42,
     "metadata": {},
     "output_type": "execute_result"
    }
   ],
   "source": [
    "numpy.arange(3, 8) # <-- discrete sequence from 3 to 8 (top extreme EXCLUDED!)"
   ]
  },
  {
   "cell_type": "code",
   "execution_count": 43,
   "metadata": {
    "id": "5_bDDxKnO134"
   },
   "outputs": [
    {
     "data": {
      "text/plain": [
       "array([[1, 0, 0],\n",
       "       [0, 2, 0],\n",
       "       [0, 0, 5]])"
      ]
     },
     "execution_count": 43,
     "metadata": {},
     "output_type": "execute_result"
    }
   ],
   "source": [
    "numpy.diag([1, 2, 5]) # <-- matrix with a given diagonal"
   ]
  },
  {
   "cell_type": "code",
   "execution_count": 44,
   "metadata": {
    "id": "ory990vtO72n"
   },
   "outputs": [
    {
     "data": {
      "text/plain": [
       "array([1, 5])"
      ]
     },
     "execution_count": 44,
     "metadata": {},
     "output_type": "execute_result"
    }
   ],
   "source": [
    "C = numpy.array([[1, 1],\n",
    "                 [4, 5]])\n",
    "\n",
    "numpy.diag(C) # <-- or, it can be used to extract a diagonal from a given matrix"
   ]
  },
  {
   "cell_type": "code",
   "execution_count": 45,
   "metadata": {
    "id": "fzYCid3EhX7x"
   },
   "outputs": [
    {
     "data": {
      "text/plain": [
       "array([[1., 0., 0.],\n",
       "       [0., 1., 0.],\n",
       "       [0., 0., 1.]])"
      ]
     },
     "execution_count": 45,
     "metadata": {},
     "output_type": "execute_result"
    }
   ],
   "source": [
    "numpy.eye(3) # <-- identity matrix of a given size"
   ]
  },
  {
   "cell_type": "code",
   "execution_count": 46,
   "metadata": {
    "id": "1YbZmCXaPeSK"
   },
   "outputs": [
    {
     "data": {
      "text/plain": [
       "array([[5, 6, 1, 0, 8, 3]])"
      ]
     },
     "execution_count": 46,
     "metadata": {},
     "output_type": "execute_result"
    }
   ],
   "source": [
    "A.reshape((1, 6)) # <-- re-organizes the elements within the array into a predetermined configuration"
   ]
  },
  {
   "cell_type": "code",
   "execution_count": 47,
   "metadata": {
    "id": "opBIvasPPklD"
   },
   "outputs": [
    {
     "data": {
      "text/plain": [
       "array([[5, 6, 1],\n",
       "       [0, 8, 3]])"
      ]
     },
     "execution_count": 47,
     "metadata": {},
     "output_type": "execute_result"
    }
   ],
   "source": [
    "A.reshape((2, 3))"
   ]
  },
  {
   "cell_type": "markdown",
   "metadata": {
    "id": "5ZJ_Mno3D9P-"
   },
   "source": [
    "Numpy arrays also support *componentwise* evaluation of classical mathematical functions, such as sine, cosine, exponential, etc."
   ]
  },
  {
   "cell_type": "code",
   "execution_count": 48,
   "metadata": {
    "id": "p9mPtciOPvs-"
   },
   "outputs": [
    {
     "data": {
      "text/plain": [
       "array([0.84147098, 0.14112001])"
      ]
     },
     "execution_count": 48,
     "metadata": {},
     "output_type": "execute_result"
    }
   ],
   "source": [
    "x = numpy.array([1.0, 3.0])\n",
    "numpy.sin(x)"
   ]
  },
  {
   "cell_type": "code",
   "execution_count": 49,
   "metadata": {
    "id": "E-k96pGsP8d7"
   },
   "outputs": [
    {
     "data": {
      "text/plain": [
       "array([ 0.54030231, -0.9899925 ])"
      ]
     },
     "execution_count": 49,
     "metadata": {},
     "output_type": "execute_result"
    }
   ],
   "source": [
    "numpy.cos(x)"
   ]
  },
  {
   "cell_type": "code",
   "execution_count": 50,
   "metadata": {
    "id": "pwmHvsU5P-e0"
   },
   "outputs": [
    {
     "data": {
      "text/plain": [
       "array([ 2.71828183, 20.08553692])"
      ]
     },
     "execution_count": 50,
     "metadata": {},
     "output_type": "execute_result"
    }
   ],
   "source": [
    "numpy.exp(x)"
   ]
  },
  {
   "cell_type": "code",
   "execution_count": 51,
   "metadata": {
    "id": "fKW5_YC6P_Sg"
   },
   "outputs": [
    {
     "data": {
      "text/plain": [
       "array([0.        , 1.09861229])"
      ]
     },
     "execution_count": 51,
     "metadata": {},
     "output_type": "execute_result"
    }
   ],
   "source": [
    "numpy.log(x)"
   ]
  },
  {
   "cell_type": "markdown",
   "metadata": {
    "id": "1bfH__crQQm6"
   },
   "source": [
    "Lastly, aside from functions, numpy also comes with other stuff, such as numerical constants, e.g., $\\pi$."
   ]
  },
  {
   "cell_type": "code",
   "execution_count": 52,
   "metadata": {
    "id": "7mNblg2qQOZk"
   },
   "outputs": [
    {
     "data": {
      "text/plain": [
       "3.141592653589793"
      ]
     },
     "execution_count": 52,
     "metadata": {},
     "output_type": "execute_result"
    }
   ],
   "source": [
    "numpy.pi"
   ]
  },
  {
   "cell_type": "markdown",
   "metadata": {
    "id": "p-o3Ut8BSPAK"
   },
   "source": [
    "<mark>**Exercise 5**</mark></br>\n",
    "Leveraging numpy, create a function that, given a positive integer $n$, creates a square matrix $n\\times n$ defined as:</br></br>\n",
    "\n",
    "$$H = \\left[\\begin{array}{ccccc}\n",
    "1 & 2 & ... & ... & n\\\\\n",
    "n+1 & n+2 & ... & ... & 2n\\\\\n",
    "... & ... & ... & ... & 3n\\\\\n",
    "... & ... & ... & ... & ..\\\\\n",
    "... & ... & ... & ... & n(n-1)\\\\\n",
    "... & ... & ... & ... & n^2\\\\\n",
    "\\end{array}\\right]$$\n",
    "</br>\n",
    "Hint: try messing around with the functions *arange* and *reshape*!"
   ]
  },
  {
   "cell_type": "code",
   "execution_count": 64,
   "metadata": {},
   "outputs": [],
   "source": [
    "import numpy as np"
   ]
  },
  {
   "cell_type": "code",
   "execution_count": 67,
   "metadata": {
    "id": "SoKYJq-wSA3a"
   },
   "outputs": [],
   "source": [
    "# Exercise 5\n",
    "\n",
    "def n_rows(row):\n",
    "    H = np.arange(row**2)\n",
    "    H = np.reshape(H, (row, row))\n",
    "    return H\n"
   ]
  },
  {
   "cell_type": "code",
   "execution_count": 68,
   "metadata": {},
   "outputs": [
    {
     "data": {
      "text/plain": [
       "array([[ 0,  1,  2,  3,  4],\n",
       "       [ 5,  6,  7,  8,  9],\n",
       "       [10, 11, 12, 13, 14],\n",
       "       [15, 16, 17, 18, 19],\n",
       "       [20, 21, 22, 23, 24]])"
      ]
     },
     "execution_count": 68,
     "metadata": {},
     "output_type": "execute_result"
    }
   ],
   "source": [
    "n_rows(5)"
   ]
  },
  {
   "cell_type": "markdown",
   "metadata": {
    "id": "4mn7S3Mdg6Rt"
   },
   "source": [
    "<mark>**Exercise 6**</mark></br>\n",
    "Create a function that, given a matrix $A$ and a nonnegative integer $n\\ge0$, computes the $n$th power of $A$ *in the matrix sense*."
   ]
  },
  {
   "cell_type": "code",
   "execution_count": 54,
   "metadata": {
    "colab": {
     "base_uri": "https://localhost:8080/"
    },
    "id": "ufnzuB-dhHpV",
    "outputId": "d5cedfd2-c1c9-4aab-ba26-41427ef2104f"
   },
   "outputs": [],
   "source": [
    "# Exercise 6\n",
    "\n",
    "\n",
    "\n",
    "\n"
   ]
  },
  {
   "cell_type": "markdown",
   "metadata": {},
   "source": [
    "A very useful concept in numpy (and many other packages) is *recycling*. By leveraging basic properties of tensors, recycling can be used to compute \"cross\" operations in a very natural way. Since the idea is more easy to understand than to explain, we report a few examples below"
   ]
  },
  {
   "cell_type": "code",
   "execution_count": null,
   "metadata": {},
   "outputs": [],
   "source": [
    "\n",
    "\n",
    "\n",
    "\n"
   ]
  },
  {
   "cell_type": "markdown",
   "metadata": {},
   "source": [
    "Essentially, the idea is that we can always do \"componentwise operations\" if we make two tensors have compatible shapes. Two shapes $(s_1,\\dots, s_m)$ and $(s'_1,\\dots,s'_m)$ are compatible if for all $i=1,\\dots,m$ one has either $s_i=s'_i$ or $s_i=1$ or $s_i'=1$. The 1's are those that enable the recyling effect."
   ]
  },
  {
   "cell_type": "markdown",
   "metadata": {},
   "source": [
    "<mark>**Exercise 7**</mark></br>\n",
    "Create a function that, given two clouds of $d$-dimensional points, $[p_1; \\dots; p_n]$ and $[q_1;\\dots; q_m]$, computes the shortest distance between the two, i.e. $\\min_{i,j}\\|p_i-q_j\\|$, where $\\|\\cdot\\|$ is the Euclidean norm. To this end, assume that the two collections of points are stored in two matrices $\\mathbf{P}\\in\\mathbb{R}^{n\\times d}$ and $\\mathbf{Q}\\in\\mathbb{R}^{m\\times d}$, respectively."
   ]
  },
  {
   "cell_type": "code",
   "execution_count": 81,
   "metadata": {},
   "outputs": [],
   "source": [
    "def min_distance(p, q):\n",
    "    diff = p - q\n",
    "    dist = np.abs(diff)\n",
    "    return np.min(dist), np.argmin(dist)"
   ]
  },
  {
   "cell_type": "code",
   "execution_count": 83,
   "metadata": {},
   "outputs": [
    {
     "name": "stdout",
     "output_type": "stream",
     "text": [
      "[[0.44740941 0.97258226]\n",
      " [0.03913376 0.94668461]]\n",
      "[[0.81968899 0.99290025]\n",
      " [0.41186416 0.98573661]]\n"
     ]
    },
    {
     "data": {
      "text/plain": [
       "(np.float64(0.020317992757383108), np.int64(1))"
      ]
     },
     "execution_count": 83,
     "metadata": {},
     "output_type": "execute_result"
    }
   ],
   "source": [
    "p = np.random.rand(2, 2)\n",
    "q = np.random.rand(2, 2)\n",
    "print(p) \n",
    "print(q)\n",
    "\n",
    "min_distance(p, q)"
   ]
  },
  {
   "cell_type": "markdown",
   "metadata": {
    "id": "NDIXYxNuU8Xf"
   },
   "source": [
    "## Drawing graphs with **matplotlib**\n",
    "\n",
    "A well-known library for graphs visualization is **matplotlib**. In particular, its submodule **matplotlib.pyplot**.\n",
    "\n",
    "Given that the name is lenghty, people usually import it with a suitable pseudonym (typically **plt**).</br>\n",
    "Note: numpy also has a classical pseudonym, which is **np**."
   ]
  },
  {
   "cell_type": "code",
   "execution_count": null,
   "metadata": {
    "id": "KBXCqPAiTjwo"
   },
   "outputs": [],
   "source": []
  },
  {
   "cell_type": "markdown",
   "metadata": {
    "id": "G8EDOQKzb134"
   },
   "source": [
    "The main functions we are interested in are\n",
    "- **figure**: creates an empty figure (not mandatory, but it allows choosing stuff such as the figure size);\n",
    "- **plot**: draw lines / points with certain coordinates;\n",
    "- **legend**: add a legend;\n",
    "- **title**: add a title;\n",
    "- **show**: show the graph (not mandatory, but useful for suppressing unwanted outputs).\n",
    "\n",
    "Obviously there are many others, but we will see them during the course."
   ]
  },
  {
   "cell_type": "code",
   "execution_count": 55,
   "metadata": {
    "colab": {
     "base_uri": "https://localhost:8080/",
     "height": 354
    },
    "id": "Okx-Ch0ibzuL",
    "outputId": "7a23622c-f9d7-44d7-baa6-c6d0f8d71faf"
   },
   "outputs": [],
   "source": [
    "# Plotting function graphs\n",
    "\n",
    "\n",
    "\n",
    "\n"
   ]
  },
  {
   "cell_type": "markdown",
   "metadata": {
    "id": "C0W0xLJAeLXG"
   },
   "source": [
    "<mark>**Exercise 8**</mark></br>\n",
    "Draw the graph of $f(x) = \\cos(x)$ for $x\\in[-\\pi, \\pi]$, using default settings (continuous line). Precisely, within the same plot, draw the same function three times, where each drawing refers to a different spatial grid: start with a grid $\\mathbf{x}$ consisting of 5 points, then 10, and finally 100.\n",
    "\n",
    "Try also repeating this by using the marker \"-o\" for the coarsest curve (5 knots)."
   ]
  },
  {
   "cell_type": "code",
   "execution_count": 56,
   "metadata": {
    "colab": {
     "base_uri": "https://localhost:8080/",
     "height": 330
    },
    "id": "wL-X4hhUd4Rm",
    "outputId": "346be353-1d8e-4dc3-b193-0eeccb2e8e1b"
   },
   "outputs": [],
   "source": [
    "# Exercise 7\n",
    "\n",
    "\n",
    "\n",
    "\n"
   ]
  },
  {
   "cell_type": "markdown",
   "metadata": {
    "id": "AGljWP7eDNTo"
   },
   "source": [
    "# **Extras**\n",
    "The subsections below include some extra Python stuff. Part of it will be explained during the course, while the rest is there for the curious ones!"
   ]
  },
  {
   "cell_type": "markdown",
   "metadata": {
    "id": "c8FHWmIZDKBN"
   },
   "source": [
    "## List comprehension\n",
    "In Python, we can combine the syntax of **list definition** with that of **for loop** to construct lists in a very compact way"
   ]
  },
  {
   "cell_type": "code",
   "execution_count": 57,
   "metadata": {
    "colab": {
     "base_uri": "https://localhost:8080/"
    },
    "id": "kQvIBJXqDrMn",
    "outputId": "59cde6b2-69c6-4789-a27c-e96ea72bcd24"
   },
   "outputs": [
    {
     "name": "stdout",
     "output_type": "stream",
     "text": [
      "[0, 1, 4, 9, 16]\n",
      "[0, 1, 4, 9, 16]\n"
     ]
    }
   ],
   "source": [
    "A1 = [0, 1, 4, 9, 16]\n",
    "A2 = [i**2 for i in range(5)]\n",
    "print(A1)\n",
    "print(A2)"
   ]
  },
  {
   "cell_type": "code",
   "execution_count": 58,
   "metadata": {
    "colab": {
     "base_uri": "https://localhost:8080/"
    },
    "id": "57k8khvdENDC",
    "outputId": "197f7efa-b214-4523-c3da-209458e2d104"
   },
   "outputs": [
    {
     "data": {
      "text/plain": [
       "['A', 'B', 'C', 'D', 'E', 'F']"
      ]
     },
     "execution_count": 58,
     "metadata": {},
     "output_type": "execute_result"
    }
   ],
   "source": [
    "[chr(i) for i in range(65, 71)]"
   ]
  },
  {
   "cell_type": "markdown",
   "metadata": {
    "id": "ps03wHF-Ekbw"
   },
   "source": [
    "## Raising errors and handling exceptions\n",
    "\n",
    "When something goes wrong, we can raise errors with the command **raise**. In general, errors can be of many different types. The standard one is *RuntimeError*. An example is provided below."
   ]
  },
  {
   "cell_type": "code",
   "execution_count": 59,
   "metadata": {
    "id": "RwO8deAJEVVl"
   },
   "outputs": [],
   "source": [
    "# Given an integer n, the following function computes the factorial n! by iteratively multiplying 1*2*...*n.\n",
    "# However, if n is negative or decimal, we should abort the procedure (the factorial can be generalized to such n,\n",
    "# but the definition is not this one anymore!)\n",
    "\n",
    "# Standard implementation\n",
    "def factorial(n):\n",
    "  x = 1\n",
    "  for k in range(1, n+1):\n",
    "    x = x*k\n",
    "  return x"
   ]
  },
  {
   "cell_type": "code",
   "execution_count": 60,
   "metadata": {
    "colab": {
     "base_uri": "https://localhost:8080/"
    },
    "id": "gGnY_fUXIBfk",
    "outputId": "cb131d22-2d65-4aa3-e7a3-52304c4f069b"
   },
   "outputs": [
    {
     "data": {
      "text/plain": [
       "(1, 1, 2, 6)"
      ]
     },
     "execution_count": 60,
     "metadata": {},
     "output_type": "execute_result"
    }
   ],
   "source": [
    "factorial(0), factorial(1), factorial(2), factorial(3)"
   ]
  },
  {
   "cell_type": "code",
   "execution_count": 61,
   "metadata": {
    "colab": {
     "base_uri": "https://localhost:8080/"
    },
    "id": "XWJKAep3IDAr",
    "outputId": "fe945fe9-fec7-4eb5-90a5-28b924bfc4ae"
   },
   "outputs": [
    {
     "data": {
      "text/plain": [
       "1"
      ]
     },
     "execution_count": 61,
     "metadata": {},
     "output_type": "execute_result"
    }
   ],
   "source": [
    "factorial(-1) # This is wrong!"
   ]
  },
  {
   "cell_type": "code",
   "execution_count": 62,
   "metadata": {
    "id": "MWmM7HzpJSwt"
   },
   "outputs": [],
   "source": [
    "# Better implementation\n",
    "def factorial(n):\n",
    "  if(n<0):\n",
    "    raise RuntimeError(\"Negative value detected: n needs to be a positive integer!\")\n",
    "  x = 1\n",
    "  for k in range(1, n+1):\n",
    "    x = x*k\n",
    "  return x"
   ]
  },
  {
   "cell_type": "code",
   "execution_count": 63,
   "metadata": {
    "colab": {
     "base_uri": "https://localhost:8080/",
     "height": 273
    },
    "id": "kzcSbCSIJmYX",
    "outputId": "d9750d21-b418-48e5-bfb1-17376d827229"
   },
   "outputs": [
    {
     "ename": "RuntimeError",
     "evalue": "Negative value detected: n needs to be a positive integer!",
     "output_type": "error",
     "traceback": [
      "\u001b[31m---------------------------------------------------------------------------\u001b[39m",
      "\u001b[31mRuntimeError\u001b[39m                              Traceback (most recent call last)",
      "\u001b[36mCell\u001b[39m\u001b[36m \u001b[39m\u001b[32mIn[63]\u001b[39m\u001b[32m, line 1\u001b[39m\n\u001b[32m----> \u001b[39m\u001b[32m1\u001b[39m \u001b[43mfactorial\u001b[49m\u001b[43m(\u001b[49m\u001b[43m-\u001b[49m\u001b[32;43m1\u001b[39;49m\u001b[43m)\u001b[49m\n",
      "\u001b[36mCell\u001b[39m\u001b[36m \u001b[39m\u001b[32mIn[62]\u001b[39m\u001b[32m, line 4\u001b[39m, in \u001b[36mfactorial\u001b[39m\u001b[34m(n)\u001b[39m\n\u001b[32m      2\u001b[39m \u001b[38;5;28;01mdef\u001b[39;00m\u001b[38;5;250m \u001b[39m\u001b[34mfactorial\u001b[39m(n):\n\u001b[32m      3\u001b[39m   \u001b[38;5;28;01mif\u001b[39;00m(n<\u001b[32m0\u001b[39m):\n\u001b[32m----> \u001b[39m\u001b[32m4\u001b[39m     \u001b[38;5;28;01mraise\u001b[39;00m \u001b[38;5;167;01mRuntimeError\u001b[39;00m(\u001b[33m\"\u001b[39m\u001b[33mNegative value detected: n needs to be a positive integer!\u001b[39m\u001b[33m\"\u001b[39m)\n\u001b[32m      5\u001b[39m   x = \u001b[32m1\u001b[39m\n\u001b[32m      6\u001b[39m   \u001b[38;5;28;01mfor\u001b[39;00m k \u001b[38;5;129;01min\u001b[39;00m \u001b[38;5;28mrange\u001b[39m(\u001b[32m1\u001b[39m, n+\u001b[32m1\u001b[39m):\n",
      "\u001b[31mRuntimeError\u001b[39m: Negative value detected: n needs to be a positive integer!"
     ]
    }
   ],
   "source": [
    "factorial(-1)"
   ]
  },
  {
   "cell_type": "markdown",
   "metadata": {
    "id": "--YcVpeIJpcL"
   },
   "source": [
    "Errors can be handled using the **try / except** syntax, which allows us to specify a pre-determined behavior when an exception is encountered.\n",
    "\n"
   ]
  },
  {
   "cell_type": "code",
   "execution_count": null,
   "metadata": {
    "id": "-i0p8l2TJnWB"
   },
   "outputs": [],
   "source": [
    "# Example: the following syntax doesn't work\n",
    "sum([\"a\", \"b\", \"ciao\"])"
   ]
  },
  {
   "cell_type": "code",
   "execution_count": null,
   "metadata": {
    "id": "ccngEgk7LDoc"
   },
   "outputs": [],
   "source": [
    "# Whereas the following is ok\n",
    "sum([-1, 2, 8, 11])"
   ]
  },
  {
   "cell_type": "code",
   "execution_count": null,
   "metadata": {
    "id": "3xiVdr16Mw2B"
   },
   "outputs": [],
   "source": [
    "# We can fix this with our own \"sum\" function, implementing a try / except block\n",
    "\n",
    "def newsum(L):\n",
    "  try:\n",
    "    return sum(L)                  # <-- First, we try the usual approach\n",
    "\n",
    "  except TypeError as error:       # <-- if that doesn't work, we attempt a for loop implementation\n",
    "    k = L[0]\n",
    "    for obj in range(1, len(L)):\n",
    "      k += obj\n",
    "    return k"
   ]
  },
  {
   "cell_type": "markdown",
   "metadata": {
    "id": "_1tzfpiNNu2u"
   },
   "source": [
    "## Complex numbers\n",
    "\n",
    "Python (and numpy) can also work with complex numbers. These are represented using the letter **j**. The syntax is as follows"
   ]
  },
  {
   "cell_type": "code",
   "execution_count": 84,
   "metadata": {
    "id": "LvgC6U3QNz26"
   },
   "outputs": [
    {
     "name": "stdout",
     "output_type": "stream",
     "text": [
      "(3+4j)\n"
     ]
    }
   ],
   "source": [
    "z = 3+4j\n",
    "print(z)"
   ]
  },
  {
   "cell_type": "code",
   "execution_count": 85,
   "metadata": {
    "id": "R7CVnQqIN-27"
   },
   "outputs": [
    {
     "data": {
      "text/plain": [
       "(-7+24j)"
      ]
     },
     "execution_count": 85,
     "metadata": {},
     "output_type": "execute_result"
    }
   ],
   "source": [
    "z**2"
   ]
  },
  {
   "cell_type": "code",
   "execution_count": 86,
   "metadata": {
    "id": "aJf7x5zNOBN_"
   },
   "outputs": [
    {
     "data": {
      "text/plain": [
       "(3.0, 4.0)"
      ]
     },
     "execution_count": 86,
     "metadata": {},
     "output_type": "execute_result"
    }
   ],
   "source": [
    "z.real, z.imag"
   ]
  },
  {
   "cell_type": "markdown",
   "metadata": {
    "id": "3toquKEmOHxp"
   },
   "source": [
    "## Classes\n",
    "\n",
    "Python supports object-oriented-programming, a paradigm in which one can define \"custom object types\", each of which:\n",
    "\n",
    "- can have multiple attributes (much like \"structures\" in C or Matlab);\n",
    "- may come with its own methods, i.e., functions owned by the object.\n",
    "\n",
    "The following example will quickly clarify the idea."
   ]
  },
  {
   "cell_type": "code",
   "execution_count": null,
   "metadata": {
    "id": "ixeiWSHiOJLF"
   },
   "outputs": [],
   "source": [
    "# We create a Python class for a new object type called \"Polygon\".\n",
    "# Polygons will be characterized by the coordinates of their vertices.\n",
    "# All Polygon objects will have a method, called \"plot\", that allows one to plot the Polygon.\n",
    "# We also include a method, called \"lengths\", which returns the length of each side in the Polygon\n",
    "\n",
    "import numpy as np\n",
    "\n",
    "class Polygon(object): # <-- this line says that \"Polygon\" is a class made of \"objects\"\n",
    "  def __init__(self, list_of_points): # <-- this line specifies how to create a Polygon: we must pass a list of points\n",
    "    self.points = np.array(list_of_points) # <-- storing as numpy array: it will make things simpler!\n",
    "\n",
    "  def plot(self):\n",
    "    x = list(self.points[:, 0]) # <-- list of x coordinates\n",
    "    y = list(self.points[:, 1])\n",
    "\n",
    "    # Re-adding the first point to close the loop\n",
    "    x = x + [self.points[0][0]]\n",
    "    y = y + [self.points[0][1]]\n",
    "\n",
    "    plt.fill(x, y)\n",
    "\n",
    "  def lengths(self):\n",
    "    n = len(self.points)\n",
    "    return [np.linalg.norm(self.points[i]-self.points[(i+1) % n ]) for i in range(n)]\n",
    "\n",
    "# NB: in the lines above, \"self\" is a formal reference to the object itself.\n",
    "# Without it, we would not be able to \"use\" the object itself inside the methods!"
   ]
  },
  {
   "cell_type": "code",
   "execution_count": null,
   "metadata": {
    "colab": {
     "base_uri": "https://localhost:8080/"
    },
    "id": "V86avbBTQT2S",
    "outputId": "f6d7100b-d5b2-44f3-d074-abec0788dee4"
   },
   "outputs": [],
   "source": [
    "square = Polygon([[0, 0], [0, 1], [1, 1], [1, 0]])\n",
    "square.points"
   ]
  },
  {
   "cell_type": "code",
   "execution_count": null,
   "metadata": {},
   "outputs": [],
   "source": [
    "square.lengths()"
   ]
  },
  {
   "cell_type": "code",
   "execution_count": null,
   "metadata": {
    "colab": {
     "base_uri": "https://localhost:8080/",
     "height": 368
    },
    "id": "Dv7b9vqeT4cD",
    "outputId": "7b09b316-0e98-4cd3-ec57-9026b12ef8bd"
   },
   "outputs": [],
   "source": [
    "plt.figure(figsize = (4,4))\n",
    "square.plot()"
   ]
  },
  {
   "cell_type": "markdown",
   "metadata": {
    "id": "8t2U0_OMQmeg"
   },
   "source": [
    "One can also create **nested classes** to develop objects that become more and more specific.\n",
    "\n",
    "Ex: we can create a subclass of Polygon called $\\textsf{Triangle}$, which we can further enrich we new methods specific for triangles."
   ]
  },
  {
   "cell_type": "code",
   "execution_count": null,
   "metadata": {
    "id": "D_3f1kqmQiXE"
   },
   "outputs": [],
   "source": [
    "import numpy as np\n",
    "class Triangle(Polygon):   # <-- we are saying that all Triangles are also Polygons: in this way,\n",
    "                           #     methods such as .__init__ or .plot are inherited and directly available!\n",
    "\n",
    "  def area(self):\n",
    "    a, b, c = self.lengths() # Lenghts of the three segments\n",
    "    return triangle_area(a, b, c)"
   ]
  },
  {
   "cell_type": "code",
   "execution_count": null,
   "metadata": {
    "colab": {
     "base_uri": "https://localhost:8080/",
     "height": 146
    },
    "id": "nh52uT92RXPg",
    "outputId": "58b06a9e-5ded-460f-a992-94cfa292b268"
   },
   "outputs": [],
   "source": [
    "square.area() # this is NOT a \"Triangle object\", so it should not have an \"area\" method implemented"
   ]
  },
  {
   "cell_type": "code",
   "execution_count": null,
   "metadata": {
    "colab": {
     "base_uri": "https://localhost:8080/"
    },
    "id": "lkl1WBklRZG1",
    "outputId": "e8afca41-8cfc-4c3d-8c4f-3b9b1824b58c"
   },
   "outputs": [],
   "source": [
    "triangle = Triangle([[0,0], [0,2], [1,0]])\n",
    "triangle.area()"
   ]
  },
  {
   "cell_type": "code",
   "execution_count": null,
   "metadata": {
    "colab": {
     "base_uri": "https://localhost:8080/",
     "height": 368
    },
    "id": "g7hxWAFeRibd",
    "outputId": "0f0efb36-5bef-4257-e28d-f4c5590aec89"
   },
   "outputs": [],
   "source": [
    "plt.figure(figsize = (4,4))\n",
    "triangle.plot()\n",
    "plt.axis(\"square\")\n",
    "plt.show()"
   ]
  },
  {
   "cell_type": "markdown",
   "metadata": {
    "id": "DyZ91cCSSlyT"
   },
   "source": [
    "<mark>**Exercise 9**</mark></br>\n",
    "Create a new class called $\\textsf{Circle}$. Object of this class should be characterized by two attributes: the center and the radius. Make sure to implement a \"plot\" method as well."
   ]
  },
  {
   "cell_type": "code",
   "execution_count": null,
   "metadata": {
    "id": "pdZNS_v4SIoP"
   },
   "outputs": [],
   "source": [
    "\n",
    "\n",
    "\n",
    "\n",
    "\n",
    "\n"
   ]
  },
  {
   "cell_type": "markdown",
   "metadata": {
    "id": "pU7-7TVyUdic"
   },
   "source": [
    "<mark>**Exercise 10**</mark></br>\n",
    "Modify the definition of the $\\textsf{Triangle}$ class by including a new method called $\\textsf{inner\\_circle}$ which, when called, returns the inscribed circle (as an object of the new class $\\textsf{Circle}$). To check whether things work properly, try plotting a triangle together with its inscribed circle."
   ]
  },
  {
   "cell_type": "code",
   "execution_count": null,
   "metadata": {
    "id": "TrzvR0UFXRju"
   },
   "outputs": [],
   "source": [
    "\n",
    "\n",
    "\n",
    "\n",
    "\n",
    "\n"
   ]
  },
  {
   "cell_type": "code",
   "execution_count": null,
   "metadata": {},
   "outputs": [],
   "source": []
  }
 ],
 "metadata": {
  "colab": {
   "collapsed_sections": [
    "llsANXkdoywy",
    "ApQhYj5zyAUT",
    "Q8wGKAiy2OCo",
    "QO5mIRpR1FIJ",
    "0SDuZrhSDj7k",
    "AGljWP7eDNTo"
   ],
   "provenance": [],
   "toc_visible": true
  },
  "kernelspec": {
   "display_name": "computational-statistics-py3.12 (3.12.3)",
   "language": "python",
   "name": "python3"
  },
  "language_info": {
   "codemirror_mode": {
    "name": "ipython",
    "version": 3
   },
   "file_extension": ".py",
   "mimetype": "text/x-python",
   "name": "python",
   "nbconvert_exporter": "python",
   "pygments_lexer": "ipython3",
   "version": "3.12.3"
  }
 },
 "nbformat": 4,
 "nbformat_minor": 4
}
